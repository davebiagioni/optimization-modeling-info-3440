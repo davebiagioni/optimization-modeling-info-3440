{
 "cells": [
  {
   "cell_type": "markdown",
   "metadata": {},
   "source": [
    "# Homework 3"
   ]
  },
  {
   "cell_type": "markdown",
   "metadata": {},
   "source": [
    "There are three homework problems.  If a cell is blank or starts with a `# MODIFY` comment, please fill in the appropriate code.  Feel free to add cells as needed (`ESC-a` and `ESC-b`)."
   ]
  },
  {
   "cell_type": "markdown",
   "metadata": {},
   "source": [
    "## Problem 1 - EDA"
   ]
  },
  {
   "cell_type": "markdown",
   "metadata": {},
   "source": [
    "Visit www.kaggle.com and create an account.  Identify a dataset (https://www.kaggle.com/datasets) that interests you, and that also has:\n",
    "\n",
    "* at least 2 numeric columns\n",
    "* at least 1 categorical column"
   ]
  },
  {
   "cell_type": "markdown",
   "metadata": {},
   "source": [
    "Add the import statement and \"magic\" command needed to use pandas and to plot in the notebook."
   ]
  },
  {
   "cell_type": "code",
   "execution_count": null,
   "metadata": {},
   "outputs": [],
   "source": []
  },
  {
   "cell_type": "markdown",
   "metadata": {},
   "source": [
    "Read your data set into a pandas dataframe."
   ]
  },
  {
   "cell_type": "code",
   "execution_count": null,
   "metadata": {},
   "outputs": [],
   "source": []
  },
  {
   "cell_type": "markdown",
   "metadata": {},
   "source": [
    "Create two lists named `numeric_cols` and `nonnumeric_cols` that contain the column labels for the numeric and non-numeric columns of the data set, respectively.  You should do this _programmatically_, not by hand."
   ]
  },
  {
   "cell_type": "code",
   "execution_count": null,
   "metadata": {},
   "outputs": [],
   "source": []
  },
  {
   "cell_type": "markdown",
   "metadata": {},
   "source": [
    "Create a histogram with 20 bins for one of your numeric columns (your choice)."
   ]
  },
  {
   "cell_type": "code",
   "execution_count": null,
   "metadata": {},
   "outputs": [],
   "source": []
  },
  {
   "cell_type": "markdown",
   "metadata": {},
   "source": [
    "Generate a correlation table for your numeric columns.  How many columns are highly correlated (correlation above, say, 0.5)?"
   ]
  },
  {
   "cell_type": "code",
   "execution_count": null,
   "metadata": {},
   "outputs": [],
   "source": []
  },
  {
   "cell_type": "markdown",
   "metadata": {},
   "source": [
    "Create a scatter plot with one numeric column on the x-axis and another on the y-axis.  Pick a highly correlated pair of columns, if possible (if this is not possible, just select two columns of your choice).  Give the plot a title and set its size to be 8-by-5 inches."
   ]
  },
  {
   "cell_type": "code",
   "execution_count": null,
   "metadata": {},
   "outputs": [],
   "source": []
  },
  {
   "cell_type": "markdown",
   "metadata": {},
   "source": [
    "Use the `groupby` method to create a dataframe of the frequency of each level of one of your categorical columns (your choice).  Then sort by size (greatest frequency to smallest) and keep only the top 10 most frequent categories.  If you have fewer than 10 levels then just keep all of them."
   ]
  },
  {
   "cell_type": "code",
   "execution_count": null,
   "metadata": {},
   "outputs": [],
   "source": []
  },
  {
   "cell_type": "markdown",
   "metadata": {},
   "source": [
    "Plot the results of the groupby using a bar chart."
   ]
  },
  {
   "cell_type": "code",
   "execution_count": null,
   "metadata": {},
   "outputs": [],
   "source": []
  },
  {
   "cell_type": "markdown",
   "metadata": {},
   "source": [
    "## Problem 2 - Optimization Modeling Exercise 2.2"
   ]
  },
  {
   "cell_type": "markdown",
   "metadata": {},
   "source": [
    "In this problem you will solve textbook exercise 2.2 which was on Homework 1.  Your are given partial code and just need to fill in the missing pieces to get the model to work.  The solution to this problem can be found in the Excel file that accompanies this homework assignment.\n",
    "\n",
    "__NOTE:__ These models are very similar to the simple LP we worked in class (see notebook in this directory), except here you are reading data in from a file instead of manually typing it.  If you are unsure about what is being asked for, first look at that example and see if you can find the analogous step!"
   ]
  },
  {
   "cell_type": "markdown",
   "metadata": {},
   "source": [
    "### Step 1:  Read parameters from Excel file"
   ]
  },
  {
   "cell_type": "markdown",
   "metadata": {},
   "source": [
    "Read in the the entire first sheet into a dataframe named `raw_data` from the model spreadsheet.  Do not use offsets or skip rows, just read in the entire sheet."
   ]
  },
  {
   "cell_type": "code",
   "execution_count": null,
   "metadata": {},
   "outputs": [],
   "source": []
  },
  {
   "cell_type": "markdown",
   "metadata": {},
   "source": [
    "This next cell extracts the coefficients of the objective function (revenue) and the LHS of the resource constraints for the various ingredients.  You do not need to modify this cell, assuming you followed instructions in the previous cell."
   ]
  },
  {
   "cell_type": "code",
   "execution_count": null,
   "metadata": {},
   "outputs": [],
   "source": [
    "# RUN BUT DO NOT MODIFY\n",
    "coef = pd.DataFrame(raw_data.iloc[[4, 7, 8, 9, 10, 11], 1:5])\n",
    "coef.index = ['revenue', 'dough', 'sauce', 'cheese', 'meat', 'veggies']\n",
    "coef.columns = ['plain', 'meat', 'veggie', 'supreme']\n",
    "coef"
   ]
  },
  {
   "cell_type": "markdown",
   "metadata": {},
   "source": [
    "The next cell reads in the RHS of the constraints into their own dataframe.  You do not need to modify this cell."
   ]
  },
  {
   "cell_type": "code",
   "execution_count": null,
   "metadata": {},
   "outputs": [],
   "source": [
    "# RUN BUT DO NOT MODIFY\n",
    "rhs = pd.DataFrame(raw_data.iloc[7:12, 8])\n",
    "rhs.index = coef.index[1:]\n",
    "rhs.columns = ['rhs']\n",
    "rhs"
   ]
  },
  {
   "cell_type": "markdown",
   "metadata": {},
   "source": [
    "### Create a Pyomo model"
   ]
  },
  {
   "cell_type": "markdown",
   "metadata": {},
   "source": [
    "In this section you will instantiate the decision variables, objective function and constraints for a Pyomo model that solves Exercise 2.2."
   ]
  },
  {
   "cell_type": "markdown",
   "metadata": {},
   "source": [
    "First, import the pyomo.environ module as `pe`."
   ]
  },
  {
   "cell_type": "code",
   "execution_count": null,
   "metadata": {},
   "outputs": [],
   "source": []
  },
  {
   "cell_type": "markdown",
   "metadata": {},
   "source": [
    "Next, instantiate a ConcreteModel and store it in the variable `model`."
   ]
  },
  {
   "cell_type": "code",
   "execution_count": null,
   "metadata": {},
   "outputs": [],
   "source": []
  },
  {
   "cell_type": "markdown",
   "metadata": {},
   "source": [
    "Create a list called `decision_index` containing indexes for the decision variables ranging from 0 to 3."
   ]
  },
  {
   "cell_type": "code",
   "execution_count": null,
   "metadata": {},
   "outputs": [],
   "source": []
  },
  {
   "cell_type": "markdown",
   "metadata": {},
   "source": [
    "Create a pyomo variable named `x` with domain of nonnegative of real numbers.  Make sure you \"attach\" this variable to the `model` object."
   ]
  },
  {
   "cell_type": "code",
   "execution_count": null,
   "metadata": {},
   "outputs": [],
   "source": []
  },
  {
   "cell_type": "markdown",
   "metadata": {},
   "source": [
    "The next cell defines the objective function `obj` using the data in the `coefficients` dataframe.  The expression argument, `expr=...`, shows a shorthand way to represent a sumproduct using a \"list comprehension\".  The `sense=-1` argument tells Pyomo that you want to maximize (`sense=1` is minimization, the default)."
   ]
  },
  {
   "cell_type": "code",
   "execution_count": null,
   "metadata": {},
   "outputs": [],
   "source": [
    "# RUN BUT DO NOT MODIFY\n",
    "model.obj = pe.Objective(expr=sum([coef.iloc[0,i]*model.x[i] for i in decision_index]),\n",
    "                         sense=-1)"
   ]
  },
  {
   "cell_type": "markdown",
   "metadata": {},
   "source": [
    "Next we need to define the five constraints using the data in the `coefficients` and `rhs` dataframes.  You've been given the first constraint for \"dough\" which shows how to use a list comprehension to calculate the LHS sumproduct.  Try to reuse this expression to create the other four constraints."
   ]
  },
  {
   "cell_type": "code",
   "execution_count": null,
   "metadata": {},
   "outputs": [],
   "source": [
    "model.cons_dough = pe.Constraint(expr=sum([coef.iloc[1, i]*model.x[i] for i in decision_index]) <= rhs.iloc[0, 0])\n",
    "# MODIFY:  Write the other four constraints here"
   ]
  },
  {
   "cell_type": "markdown",
   "metadata": {},
   "source": [
    "### Run the solver and examine the solution"
   ]
  },
  {
   "cell_type": "markdown",
   "metadata": {},
   "source": [
    "Let's try to solve!  You do not need to modify this cell, unless you want to turn off the printed output (set `tee=False`)."
   ]
  },
  {
   "cell_type": "code",
   "execution_count": null,
   "metadata": {},
   "outputs": [],
   "source": [
    "opt = pe.SolverFactory('glpk')\n",
    "success = opt.solve(model, tee=True)"
   ]
  },
  {
   "cell_type": "markdown",
   "metadata": {},
   "source": [
    "This next cell will help you determine whether the solver found a solution or had an error (like poorly defined constraints, or infeasibility).  Pay particular attention to the \"Solver\" part of the output."
   ]
  },
  {
   "cell_type": "code",
   "execution_count": null,
   "metadata": {},
   "outputs": [],
   "source": [
    "print(success)"
   ]
  },
  {
   "cell_type": "markdown",
   "metadata": {},
   "source": [
    "The next cell will extract the objective function and optimal solution (assuming the solver found a solution).  You do not need to modify this cell."
   ]
  },
  {
   "cell_type": "code",
   "execution_count": null,
   "metadata": {},
   "outputs": [],
   "source": [
    "# RUN BUT DO NOT MODIFY\n",
    "obj_val = model.obj.expr()\n",
    "print('optimal objective value = {}'.format(obj_val))\n",
    "\n",
    "x = []\n",
    "for index in model.x_index.value_list:\n",
    "    x.append(model.x[index].value)\n",
    "print('optimal x = {}'.format(x))"
   ]
  },
  {
   "cell_type": "markdown",
   "metadata": {},
   "source": [
    "Finally, print the slack in each constraint.  The expression to print the slack in the \"dough\" constraint is given."
   ]
  },
  {
   "cell_type": "code",
   "execution_count": null,
   "metadata": {},
   "outputs": [],
   "source": [
    "print('dough slack = {}'.format(model.cons_dough.slack()))\n",
    "# MODIFY:  print the slack for the other four variables here."
   ]
  },
  {
   "cell_type": "code",
   "execution_count": null,
   "metadata": {},
   "outputs": [],
   "source": []
  },
  {
   "cell_type": "markdown",
   "metadata": {},
   "source": [
    "## Problem 3 - Optimization Modeling Exercise 6.5"
   ]
  },
  {
   "cell_type": "markdown",
   "metadata": {},
   "source": [
    "See if you can do this one yourself.  To receive full credit, you must read data into two dataframes (like `coef` and `rhs` in the previous problem) and use this to define the objective and constraints."
   ]
  },
  {
   "cell_type": "code",
   "execution_count": null,
   "metadata": {},
   "outputs": [],
   "source": []
  },
  {
   "cell_type": "code",
   "execution_count": null,
   "metadata": {},
   "outputs": [],
   "source": []
  }
 ],
 "metadata": {
  "kernelspec": {
   "display_name": "Python 3",
   "language": "python",
   "name": "python3"
  },
  "language_info": {
   "codemirror_mode": {
    "name": "ipython",
    "version": 3
   },
   "file_extension": ".py",
   "mimetype": "text/x-python",
   "name": "python",
   "nbconvert_exporter": "python",
   "pygments_lexer": "ipython3",
   "version": "3.6.8"
  }
 },
 "nbformat": 4,
 "nbformat_minor": 2
}
