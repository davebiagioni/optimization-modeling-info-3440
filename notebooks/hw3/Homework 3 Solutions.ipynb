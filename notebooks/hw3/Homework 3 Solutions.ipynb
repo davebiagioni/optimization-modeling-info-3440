{
 "cells": [
  {
   "cell_type": "markdown",
   "metadata": {},
   "source": [
    "# Homework 3 Solutions"
   ]
  },
  {
   "cell_type": "markdown",
   "metadata": {},
   "source": [
    "There are three homework problems.  If a cell is blank or starts with a `# MODIFY` comment, please fill in the appropriate code.  Feel free to add cells as needed (`ESC-a` and `ESC-b`)."
   ]
  },
  {
   "cell_type": "markdown",
   "metadata": {},
   "source": [
    "## Problem 1 - EDA"
   ]
  },
  {
   "cell_type": "markdown",
   "metadata": {},
   "source": [
    "Visit www.kaggle.com and create an account.  Identify a dataset (https://www.kaggle.com/datasets) that interests you, and that also has:\n",
    "\n",
    "* at least 2 numeric columns\n",
    "* at least 1 categorical column"
   ]
  },
  {
   "cell_type": "markdown",
   "metadata": {},
   "source": [
    "Add the import statement and \"magic\" command needed to use pandas and to plot in the notebook."
   ]
  },
  {
   "cell_type": "code",
   "execution_count": 3,
   "metadata": {},
   "outputs": [],
   "source": [
    "import pandas as pd\n",
    "%matplotlib inline"
   ]
  },
  {
   "cell_type": "markdown",
   "metadata": {},
   "source": [
    "Read your data set into a pandas dataframe."
   ]
  },
  {
   "cell_type": "code",
   "execution_count": 4,
   "metadata": {},
   "outputs": [
    {
     "data": {
      "text/html": [
       "<div>\n",
       "<style scoped>\n",
       "    .dataframe tbody tr th:only-of-type {\n",
       "        vertical-align: middle;\n",
       "    }\n",
       "\n",
       "    .dataframe tbody tr th {\n",
       "        vertical-align: top;\n",
       "    }\n",
       "\n",
       "    .dataframe thead th {\n",
       "        text-align: right;\n",
       "    }\n",
       "</style>\n",
       "<table border=\"1\" class=\"dataframe\">\n",
       "  <thead>\n",
       "    <tr style=\"text-align: right;\">\n",
       "      <th></th>\n",
       "      <th>id</th>\n",
       "      <th>funded_amount</th>\n",
       "      <th>loan_amount</th>\n",
       "      <th>activity</th>\n",
       "      <th>sector</th>\n",
       "      <th>use</th>\n",
       "      <th>country_code</th>\n",
       "      <th>country</th>\n",
       "      <th>region</th>\n",
       "      <th>currency</th>\n",
       "      <th>partner_id</th>\n",
       "      <th>posted_time</th>\n",
       "      <th>disbursed_time</th>\n",
       "      <th>funded_time</th>\n",
       "      <th>term_in_months</th>\n",
       "      <th>lender_count</th>\n",
       "      <th>tags</th>\n",
       "      <th>borrower_genders</th>\n",
       "      <th>repayment_interval</th>\n",
       "      <th>date</th>\n",
       "    </tr>\n",
       "  </thead>\n",
       "  <tbody>\n",
       "    <tr>\n",
       "      <th>0</th>\n",
       "      <td>653051</td>\n",
       "      <td>300</td>\n",
       "      <td>300</td>\n",
       "      <td>Fruits &amp; Vegetables</td>\n",
       "      <td>Food</td>\n",
       "      <td>To buy seasonal, fresh fruits to sell.</td>\n",
       "      <td>PK</td>\n",
       "      <td>Pakistan</td>\n",
       "      <td>Lahore</td>\n",
       "      <td>PKR</td>\n",
       "      <td>247.0</td>\n",
       "      <td>2014-01-01 06:12:39+00:00</td>\n",
       "      <td>2013-12-17 08:00:00+00:00</td>\n",
       "      <td>2014-01-02 10:06:32+00:00</td>\n",
       "      <td>12</td>\n",
       "      <td>12</td>\n",
       "      <td>NaN</td>\n",
       "      <td>female</td>\n",
       "      <td>irregular</td>\n",
       "      <td>1/1/14</td>\n",
       "    </tr>\n",
       "    <tr>\n",
       "      <th>1</th>\n",
       "      <td>653053</td>\n",
       "      <td>575</td>\n",
       "      <td>575</td>\n",
       "      <td>Rickshaw</td>\n",
       "      <td>Transportation</td>\n",
       "      <td>to repair and maintain the auto rickshaw used ...</td>\n",
       "      <td>PK</td>\n",
       "      <td>Pakistan</td>\n",
       "      <td>Lahore</td>\n",
       "      <td>PKR</td>\n",
       "      <td>247.0</td>\n",
       "      <td>2014-01-01 06:51:08+00:00</td>\n",
       "      <td>2013-12-17 08:00:00+00:00</td>\n",
       "      <td>2014-01-02 09:17:23+00:00</td>\n",
       "      <td>11</td>\n",
       "      <td>14</td>\n",
       "      <td>NaN</td>\n",
       "      <td>female, female</td>\n",
       "      <td>irregular</td>\n",
       "      <td>1/1/14</td>\n",
       "    </tr>\n",
       "    <tr>\n",
       "      <th>2</th>\n",
       "      <td>653068</td>\n",
       "      <td>150</td>\n",
       "      <td>150</td>\n",
       "      <td>Transportation</td>\n",
       "      <td>Transportation</td>\n",
       "      <td>To repair their old cycle-van and buy another ...</td>\n",
       "      <td>IN</td>\n",
       "      <td>India</td>\n",
       "      <td>Maynaguri</td>\n",
       "      <td>INR</td>\n",
       "      <td>334.0</td>\n",
       "      <td>2014-01-01 09:58:07+00:00</td>\n",
       "      <td>2013-12-17 08:00:00+00:00</td>\n",
       "      <td>2014-01-01 16:01:36+00:00</td>\n",
       "      <td>43</td>\n",
       "      <td>6</td>\n",
       "      <td>user_favorite, user_favorite</td>\n",
       "      <td>female</td>\n",
       "      <td>bullet</td>\n",
       "      <td>1/1/14</td>\n",
       "    </tr>\n",
       "    <tr>\n",
       "      <th>3</th>\n",
       "      <td>653063</td>\n",
       "      <td>200</td>\n",
       "      <td>200</td>\n",
       "      <td>Embroidery</td>\n",
       "      <td>Arts</td>\n",
       "      <td>to purchase an embroidery machine and a variet...</td>\n",
       "      <td>PK</td>\n",
       "      <td>Pakistan</td>\n",
       "      <td>Lahore</td>\n",
       "      <td>PKR</td>\n",
       "      <td>247.0</td>\n",
       "      <td>2014-01-01 08:03:11+00:00</td>\n",
       "      <td>2013-12-24 08:00:00+00:00</td>\n",
       "      <td>2014-01-01 13:00:00+00:00</td>\n",
       "      <td>11</td>\n",
       "      <td>8</td>\n",
       "      <td>NaN</td>\n",
       "      <td>female</td>\n",
       "      <td>irregular</td>\n",
       "      <td>1/1/14</td>\n",
       "    </tr>\n",
       "    <tr>\n",
       "      <th>4</th>\n",
       "      <td>653084</td>\n",
       "      <td>400</td>\n",
       "      <td>400</td>\n",
       "      <td>Milk Sales</td>\n",
       "      <td>Food</td>\n",
       "      <td>to purchase one buffalo.</td>\n",
       "      <td>PK</td>\n",
       "      <td>Pakistan</td>\n",
       "      <td>Abdul Hakeem</td>\n",
       "      <td>PKR</td>\n",
       "      <td>245.0</td>\n",
       "      <td>2014-01-01 11:53:19+00:00</td>\n",
       "      <td>2013-12-17 08:00:00+00:00</td>\n",
       "      <td>2014-01-01 19:18:51+00:00</td>\n",
       "      <td>14</td>\n",
       "      <td>16</td>\n",
       "      <td>NaN</td>\n",
       "      <td>female</td>\n",
       "      <td>monthly</td>\n",
       "      <td>1/1/14</td>\n",
       "    </tr>\n",
       "  </tbody>\n",
       "</table>\n",
       "</div>"
      ],
      "text/plain": [
       "       id  funded_amount  loan_amount             activity          sector  \\\n",
       "0  653051            300          300  Fruits & Vegetables            Food   \n",
       "1  653053            575          575             Rickshaw  Transportation   \n",
       "2  653068            150          150       Transportation  Transportation   \n",
       "3  653063            200          200           Embroidery            Arts   \n",
       "4  653084            400          400           Milk Sales            Food   \n",
       "\n",
       "                                                 use country_code   country  \\\n",
       "0            To buy seasonal, fresh fruits to sell.            PK  Pakistan   \n",
       "1  to repair and maintain the auto rickshaw used ...           PK  Pakistan   \n",
       "2  To repair their old cycle-van and buy another ...           IN     India   \n",
       "3  to purchase an embroidery machine and a variet...           PK  Pakistan   \n",
       "4                           to purchase one buffalo.           PK  Pakistan   \n",
       "\n",
       "         region currency  partner_id                posted_time  \\\n",
       "0        Lahore      PKR       247.0  2014-01-01 06:12:39+00:00   \n",
       "1        Lahore      PKR       247.0  2014-01-01 06:51:08+00:00   \n",
       "2     Maynaguri      INR       334.0  2014-01-01 09:58:07+00:00   \n",
       "3        Lahore      PKR       247.0  2014-01-01 08:03:11+00:00   \n",
       "4  Abdul Hakeem      PKR       245.0  2014-01-01 11:53:19+00:00   \n",
       "\n",
       "              disbursed_time                funded_time  term_in_months  \\\n",
       "0  2013-12-17 08:00:00+00:00  2014-01-02 10:06:32+00:00              12   \n",
       "1  2013-12-17 08:00:00+00:00  2014-01-02 09:17:23+00:00              11   \n",
       "2  2013-12-17 08:00:00+00:00  2014-01-01 16:01:36+00:00              43   \n",
       "3  2013-12-24 08:00:00+00:00  2014-01-01 13:00:00+00:00              11   \n",
       "4  2013-12-17 08:00:00+00:00  2014-01-01 19:18:51+00:00              14   \n",
       "\n",
       "   lender_count                          tags borrower_genders  \\\n",
       "0            12                           NaN           female   \n",
       "1            14                           NaN   female, female   \n",
       "2             6  user_favorite, user_favorite           female   \n",
       "3             8                           NaN           female   \n",
       "4            16                           NaN           female   \n",
       "\n",
       "  repayment_interval    date  \n",
       "0          irregular  1/1/14  \n",
       "1          irregular  1/1/14  \n",
       "2             bullet  1/1/14  \n",
       "3          irregular  1/1/14  \n",
       "4            monthly  1/1/14  "
      ]
     },
     "execution_count": 4,
     "metadata": {},
     "output_type": "execute_result"
    }
   ],
   "source": [
    "df = pd.read_csv('../data/kiva_loans.csv')\n",
    "df.head()"
   ]
  },
  {
   "cell_type": "markdown",
   "metadata": {},
   "source": [
    "Create two lists named `numeric_cols` and `nonnumeric_cols` that contain the column labels for the numeric and non-numeric columns of the data set, respectively.  You should do this _programmatically_, not by hand."
   ]
  },
  {
   "cell_type": "code",
   "execution_count": 7,
   "metadata": {},
   "outputs": [
    {
     "data": {
      "text/plain": [
       "(['id',\n",
       "  'funded_amount',\n",
       "  'loan_amount',\n",
       "  'partner_id',\n",
       "  'term_in_months',\n",
       "  'lender_count'],\n",
       " ['activity',\n",
       "  'sector',\n",
       "  'use',\n",
       "  'country_code',\n",
       "  'country',\n",
       "  'region',\n",
       "  'currency',\n",
       "  'posted_time',\n",
       "  'disbursed_time',\n",
       "  'funded_time',\n",
       "  'tags',\n",
       "  'borrower_genders',\n",
       "  'repayment_interval',\n",
       "  'date'])"
      ]
     },
     "execution_count": 7,
     "metadata": {},
     "output_type": "execute_result"
    }
   ],
   "source": [
    "numeric_cols = df.describe().columns.tolist()\n",
    "nonnumeric_cols = [col for col in df.columns if col not in numeric_cols]\n",
    "\n",
    "numeric_cols, nonnumeric_cols"
   ]
  },
  {
   "cell_type": "markdown",
   "metadata": {},
   "source": [
    "Create a histogram with 20 bins for one of your numeric columns (your choice)."
   ]
  },
  {
   "cell_type": "code",
   "execution_count": 8,
   "metadata": {},
   "outputs": [
    {
     "data": {
      "image/png": "[encoded data removed]",
      "text/plain": [
       "<Figure size 432x288 with 1 Axes>"
      ]
     },
     "metadata": {
      "needs_background": "light"
     },
     "output_type": "display_data"
    }
   ],
   "source": [
    "_ = df['funded_amount'].hist(bins=20)"
   ]
  },
  {
   "cell_type": "markdown",
   "metadata": {},
   "source": [
    "Generate a correlation table for your numeric columns.  How many columns are highly correlated (correlation above, say, 0.5)?"
   ]
  },
  {
   "cell_type": "code",
   "execution_count": 10,
   "metadata": {},
   "outputs": [
    {
     "data": {
      "text/html": [
       "<div>\n",
       "<style scoped>\n",
       "    .dataframe tbody tr th:only-of-type {\n",
       "        vertical-align: middle;\n",
       "    }\n",
       "\n",
       "    .dataframe tbody tr th {\n",
       "        vertical-align: top;\n",
       "    }\n",
       "\n",
       "    .dataframe thead th {\n",
       "        text-align: right;\n",
       "    }\n",
       "</style>\n",
       "<table border=\"1\" class=\"dataframe\">\n",
       "  <thead>\n",
       "    <tr style=\"text-align: right;\">\n",
       "      <th></th>\n",
       "      <th>id</th>\n",
       "      <th>funded_amount</th>\n",
       "      <th>loan_amount</th>\n",
       "      <th>partner_id</th>\n",
       "      <th>term_in_months</th>\n",
       "      <th>lender_count</th>\n",
       "    </tr>\n",
       "  </thead>\n",
       "  <tbody>\n",
       "    <tr>\n",
       "      <th>id</th>\n",
       "      <td>1.000000</td>\n",
       "      <td>0.003676</td>\n",
       "      <td>0.030904</td>\n",
       "      <td>-0.043882</td>\n",
       "      <td>-0.105015</td>\n",
       "      <td>0.036151</td>\n",
       "    </tr>\n",
       "    <tr>\n",
       "      <th>funded_amount</th>\n",
       "      <td>0.003676</td>\n",
       "      <td>1.000000</td>\n",
       "      <td>0.965088</td>\n",
       "      <td>-0.149241</td>\n",
       "      <td>0.141783</td>\n",
       "      <td>0.836759</td>\n",
       "    </tr>\n",
       "    <tr>\n",
       "      <th>loan_amount</th>\n",
       "      <td>0.030904</td>\n",
       "      <td>0.965088</td>\n",
       "      <td>1.000000</td>\n",
       "      <td>-0.148043</td>\n",
       "      <td>0.176112</td>\n",
       "      <td>0.804233</td>\n",
       "    </tr>\n",
       "    <tr>\n",
       "      <th>partner_id</th>\n",
       "      <td>-0.043882</td>\n",
       "      <td>-0.149241</td>\n",
       "      <td>-0.148043</td>\n",
       "      <td>1.000000</td>\n",
       "      <td>0.233066</td>\n",
       "      <td>-0.082751</td>\n",
       "    </tr>\n",
       "    <tr>\n",
       "      <th>term_in_months</th>\n",
       "      <td>-0.105015</td>\n",
       "      <td>0.141783</td>\n",
       "      <td>0.176112</td>\n",
       "      <td>0.233066</td>\n",
       "      <td>1.000000</td>\n",
       "      <td>0.235621</td>\n",
       "    </tr>\n",
       "    <tr>\n",
       "      <th>lender_count</th>\n",
       "      <td>0.036151</td>\n",
       "      <td>0.836759</td>\n",
       "      <td>0.804233</td>\n",
       "      <td>-0.082751</td>\n",
       "      <td>0.235621</td>\n",
       "      <td>1.000000</td>\n",
       "    </tr>\n",
       "  </tbody>\n",
       "</table>\n",
       "</div>"
      ],
      "text/plain": [
       "                      id  funded_amount  loan_amount  partner_id  \\\n",
       "id              1.000000       0.003676     0.030904   -0.043882   \n",
       "funded_amount   0.003676       1.000000     0.965088   -0.149241   \n",
       "loan_amount     0.030904       0.965088     1.000000   -0.148043   \n",
       "partner_id     -0.043882      -0.149241    -0.148043    1.000000   \n",
       "term_in_months -0.105015       0.141783     0.176112    0.233066   \n",
       "lender_count    0.036151       0.836759     0.804233   -0.082751   \n",
       "\n",
       "                term_in_months  lender_count  \n",
       "id                   -0.105015      0.036151  \n",
       "funded_amount         0.141783      0.836759  \n",
       "loan_amount           0.176112      0.804233  \n",
       "partner_id            0.233066     -0.082751  \n",
       "term_in_months        1.000000      0.235621  \n",
       "lender_count          0.235621      1.000000  "
      ]
     },
     "execution_count": 10,
     "metadata": {},
     "output_type": "execute_result"
    }
   ],
   "source": [
    "corr = df.corr()\n",
    "corr"
   ]
  },
  {
   "cell_type": "markdown",
   "metadata": {},
   "source": [
    "Create a scatter plot with one numeric column on the x-axis and another on the y-axis.  Pick a highly correlated pair of columns, if possible (if this is not possible, just select two columns of your choice).  Give the plot a title and set its size to be 8-by-5 inches."
   ]
  },
  {
   "cell_type": "code",
   "execution_count": 11,
   "metadata": {},
   "outputs": [
    {
     "data": {
      "image/png": "[encoded data removed]",
      "text/plain": [
       "<Figure size 576x360 with 1 Axes>"
      ]
     },
     "metadata": {
      "needs_background": "light"
     },
     "output_type": "display_data"
    }
   ],
   "source": [
    "_ = df.plot(kind='scatter', x='lender_count', y='funded_amount',\n",
    "            title='funded amount versus lender count', figsize=(8, 5))"
   ]
  },
  {
   "cell_type": "markdown",
   "metadata": {},
   "source": [
    "Use the `groupby` method to create a dataframe of the frequency of each level of one of your categorical columns (your choice).  Then sort by size (greatest frequency to smallest) and keep only the top 10 most frequent categories.  If you have fewer than 10 levels then just keep all of them."
   ]
  },
  {
   "cell_type": "code",
   "execution_count": 23,
   "metadata": {},
   "outputs": [
    {
     "data": {
      "text/html": [
       "<div>\n",
       "<style scoped>\n",
       "    .dataframe tbody tr th:only-of-type {\n",
       "        vertical-align: middle;\n",
       "    }\n",
       "\n",
       "    .dataframe tbody tr th {\n",
       "        vertical-align: top;\n",
       "    }\n",
       "\n",
       "    .dataframe thead th {\n",
       "        text-align: right;\n",
       "    }\n",
       "</style>\n",
       "<table border=\"1\" class=\"dataframe\">\n",
       "  <thead>\n",
       "    <tr style=\"text-align: right;\">\n",
       "      <th></th>\n",
       "      <th>size</th>\n",
       "    </tr>\n",
       "    <tr>\n",
       "      <th>activity</th>\n",
       "      <th></th>\n",
       "    </tr>\n",
       "  </thead>\n",
       "  <tbody>\n",
       "    <tr>\n",
       "      <th>General Store</th>\n",
       "      <td>861</td>\n",
       "    </tr>\n",
       "    <tr>\n",
       "      <th>Farming</th>\n",
       "      <td>776</td>\n",
       "    </tr>\n",
       "    <tr>\n",
       "      <th>Retail</th>\n",
       "      <td>558</td>\n",
       "    </tr>\n",
       "    <tr>\n",
       "      <th>Personal Housing Expenses</th>\n",
       "      <td>533</td>\n",
       "    </tr>\n",
       "    <tr>\n",
       "      <th>Higher education costs</th>\n",
       "      <td>471</td>\n",
       "    </tr>\n",
       "    <tr>\n",
       "      <th>Agriculture</th>\n",
       "      <td>464</td>\n",
       "    </tr>\n",
       "    <tr>\n",
       "      <th>Food Production/Sales</th>\n",
       "      <td>394</td>\n",
       "    </tr>\n",
       "    <tr>\n",
       "      <th>Clothing Sales</th>\n",
       "      <td>393</td>\n",
       "    </tr>\n",
       "    <tr>\n",
       "      <th>Fruits &amp; Vegetables</th>\n",
       "      <td>307</td>\n",
       "    </tr>\n",
       "    <tr>\n",
       "      <th>Food Market</th>\n",
       "      <td>271</td>\n",
       "    </tr>\n",
       "  </tbody>\n",
       "</table>\n",
       "</div>"
      ],
      "text/plain": [
       "                           size\n",
       "activity                       \n",
       "General Store               861\n",
       "Farming                     776\n",
       "Retail                      558\n",
       "Personal Housing Expenses   533\n",
       "Higher education costs      471\n",
       "Agriculture                 464\n",
       "Food Production/Sales       394\n",
       "Clothing Sales              393\n",
       "Fruits & Vegetables         307\n",
       "Food Market                 271"
      ]
     },
     "execution_count": 23,
     "metadata": {},
     "output_type": "execute_result"
    }
   ],
   "source": [
    "freq = pd.DataFrame(df.groupby('activity').size(), columns=['size'])\n",
    "freq = freq.sort_values('size', ascending=False).iloc[:10, :]\n",
    "freq"
   ]
  },
  {
   "cell_type": "markdown",
   "metadata": {},
   "source": [
    "Plot the results of the groupby using a bar chart."
   ]
  },
  {
   "cell_type": "code",
   "execution_count": 24,
   "metadata": {},
   "outputs": [
    {
     "data": {
      "image/png": "[encoded data removed]",
      "text/plain": [
       "<Figure size 432x288 with 1 Axes>"
      ]
     },
     "metadata": {
      "needs_background": "light"
     },
     "output_type": "display_data"
    }
   ],
   "source": [
    "_ = freq.plot(kind='bar')"
   ]
  },
  {
   "cell_type": "markdown",
   "metadata": {},
   "source": [
    "# Problem 2 - Optimization Modeling Exercise 2.2"
   ]
  },
  {
   "cell_type": "markdown",
   "metadata": {},
   "source": [
    "In this problem you will solve textbook exercise 2.2 which was on Homework 1.  Your are given partial code and just need to fill in the missing pieces to get the model to work.  The solution to this problem can be found in the Excel file that accompanies this homework assignment."
   ]
  },
  {
   "cell_type": "markdown",
   "metadata": {},
   "source": [
    "### Step 1:  Read parameters from Excel file"
   ]
  },
  {
   "cell_type": "markdown",
   "metadata": {},
   "source": [
    "Read in the the entire first sheet into a dataframe from the model spreadsheet.  Do not use offsets or skip rows, just read in the entire sheet."
   ]
  },
  {
   "cell_type": "code",
   "execution_count": 83,
   "metadata": {},
   "outputs": [
    {
     "data": {
      "text/html": [
       "<div>\n",
       "<style scoped>\n",
       "    .dataframe tbody tr th:only-of-type {\n",
       "        vertical-align: middle;\n",
       "    }\n",
       "\n",
       "    .dataframe tbody tr th {\n",
       "        vertical-align: top;\n",
       "    }\n",
       "\n",
       "    .dataframe thead th {\n",
       "        text-align: right;\n",
       "    }\n",
       "</style>\n",
       "<table border=\"1\" class=\"dataframe\">\n",
       "  <thead>\n",
       "    <tr style=\"text-align: right;\">\n",
       "      <th></th>\n",
       "      <th>Decision variables (pizza types)</th>\n",
       "      <th>Unnamed: 1</th>\n",
       "      <th>Unnamed: 2</th>\n",
       "      <th>Unnamed: 3</th>\n",
       "      <th>Unnamed: 4</th>\n",
       "      <th>Unnamed: 5</th>\n",
       "      <th>Unnamed: 6</th>\n",
       "      <th>Unnamed: 7</th>\n",
       "      <th>Unnamed: 8</th>\n",
       "      <th>Unnamed: 9</th>\n",
       "    </tr>\n",
       "  </thead>\n",
       "  <tbody>\n",
       "    <tr>\n",
       "      <th>0</th>\n",
       "      <td>NaN</td>\n",
       "      <td>plain</td>\n",
       "      <td>meat</td>\n",
       "      <td>veggie</td>\n",
       "      <td>supreme</td>\n",
       "      <td>NaN</td>\n",
       "      <td>NaN</td>\n",
       "      <td>NaN</td>\n",
       "      <td>NaN</td>\n",
       "      <td>NaN</td>\n",
       "    </tr>\n",
       "    <tr>\n",
       "      <th>1</th>\n",
       "      <td>NaN</td>\n",
       "      <td>0</td>\n",
       "      <td>10</td>\n",
       "      <td>0</td>\n",
       "      <td>20</td>\n",
       "      <td>NaN</td>\n",
       "      <td>NaN</td>\n",
       "      <td>NaN</td>\n",
       "      <td>NaN</td>\n",
       "      <td>NaN</td>\n",
       "    </tr>\n",
       "    <tr>\n",
       "      <th>2</th>\n",
       "      <td>NaN</td>\n",
       "      <td>NaN</td>\n",
       "      <td>NaN</td>\n",
       "      <td>NaN</td>\n",
       "      <td>NaN</td>\n",
       "      <td>NaN</td>\n",
       "      <td>NaN</td>\n",
       "      <td>NaN</td>\n",
       "      <td>NaN</td>\n",
       "      <td>NaN</td>\n",
       "    </tr>\n",
       "    <tr>\n",
       "      <th>3</th>\n",
       "      <td>Objective (maximize revenue)</td>\n",
       "      <td>NaN</td>\n",
       "      <td>NaN</td>\n",
       "      <td>NaN</td>\n",
       "      <td>NaN</td>\n",
       "      <td>NaN</td>\n",
       "      <td>value</td>\n",
       "      <td>NaN</td>\n",
       "      <td>NaN</td>\n",
       "      <td>NaN</td>\n",
       "    </tr>\n",
       "    <tr>\n",
       "      <th>4</th>\n",
       "      <td>NaN</td>\n",
       "      <td>8</td>\n",
       "      <td>10</td>\n",
       "      <td>12</td>\n",
       "      <td>15</td>\n",
       "      <td>NaN</td>\n",
       "      <td>400</td>\n",
       "      <td>NaN</td>\n",
       "      <td>NaN</td>\n",
       "      <td>NaN</td>\n",
       "    </tr>\n",
       "    <tr>\n",
       "      <th>5</th>\n",
       "      <td>NaN</td>\n",
       "      <td>NaN</td>\n",
       "      <td>NaN</td>\n",
       "      <td>NaN</td>\n",
       "      <td>NaN</td>\n",
       "      <td>NaN</td>\n",
       "      <td>NaN</td>\n",
       "      <td>NaN</td>\n",
       "      <td>NaN</td>\n",
       "      <td>NaN</td>\n",
       "    </tr>\n",
       "    <tr>\n",
       "      <th>6</th>\n",
       "      <td>Constraints</td>\n",
       "      <td>NaN</td>\n",
       "      <td>NaN</td>\n",
       "      <td>NaN</td>\n",
       "      <td>NaN</td>\n",
       "      <td>NaN</td>\n",
       "      <td>LHS</td>\n",
       "      <td>NaN</td>\n",
       "      <td>RHS</td>\n",
       "      <td>slack</td>\n",
       "    </tr>\n",
       "    <tr>\n",
       "      <th>7</th>\n",
       "      <td>dough</td>\n",
       "      <td>5</td>\n",
       "      <td>5</td>\n",
       "      <td>5</td>\n",
       "      <td>5</td>\n",
       "      <td>NaN</td>\n",
       "      <td>150</td>\n",
       "      <td>&lt;=</td>\n",
       "      <td>200</td>\n",
       "      <td>50</td>\n",
       "    </tr>\n",
       "    <tr>\n",
       "      <th>8</th>\n",
       "      <td>sauce</td>\n",
       "      <td>3</td>\n",
       "      <td>3</td>\n",
       "      <td>3</td>\n",
       "      <td>3</td>\n",
       "      <td>NaN</td>\n",
       "      <td>90</td>\n",
       "      <td>&lt;=</td>\n",
       "      <td>90</td>\n",
       "      <td>0</td>\n",
       "    </tr>\n",
       "    <tr>\n",
       "      <th>9</th>\n",
       "      <td>cheese</td>\n",
       "      <td>4</td>\n",
       "      <td>3</td>\n",
       "      <td>3</td>\n",
       "      <td>4</td>\n",
       "      <td>NaN</td>\n",
       "      <td>110</td>\n",
       "      <td>&lt;=</td>\n",
       "      <td>120</td>\n",
       "      <td>10</td>\n",
       "    </tr>\n",
       "    <tr>\n",
       "      <th>10</th>\n",
       "      <td>meat</td>\n",
       "      <td>0</td>\n",
       "      <td>3</td>\n",
       "      <td>0</td>\n",
       "      <td>2</td>\n",
       "      <td>NaN</td>\n",
       "      <td>70</td>\n",
       "      <td>&lt;=</td>\n",
       "      <td>75</td>\n",
       "      <td>5</td>\n",
       "    </tr>\n",
       "    <tr>\n",
       "      <th>11</th>\n",
       "      <td>veggies</td>\n",
       "      <td>0</td>\n",
       "      <td>0</td>\n",
       "      <td>3</td>\n",
       "      <td>2</td>\n",
       "      <td>NaN</td>\n",
       "      <td>40</td>\n",
       "      <td>&lt;=</td>\n",
       "      <td>40</td>\n",
       "      <td>0</td>\n",
       "    </tr>\n",
       "  </tbody>\n",
       "</table>\n",
       "</div>"
      ],
      "text/plain": [
       "   Decision variables (pizza types) Unnamed: 1 Unnamed: 2 Unnamed: 3  \\\n",
       "0                               NaN      plain       meat     veggie   \n",
       "1                               NaN          0         10          0   \n",
       "2                               NaN        NaN        NaN        NaN   \n",
       "3      Objective (maximize revenue)        NaN        NaN        NaN   \n",
       "4                               NaN          8         10         12   \n",
       "5                               NaN        NaN        NaN        NaN   \n",
       "6                       Constraints        NaN        NaN        NaN   \n",
       "7                             dough          5          5          5   \n",
       "8                             sauce          3          3          3   \n",
       "9                            cheese          4          3          3   \n",
       "10                             meat          0          3          0   \n",
       "11                          veggies          0          0          3   \n",
       "\n",
       "   Unnamed: 4  Unnamed: 5 Unnamed: 6 Unnamed: 7 Unnamed: 8 Unnamed: 9  \n",
       "0     supreme         NaN        NaN        NaN        NaN        NaN  \n",
       "1          20         NaN        NaN        NaN        NaN        NaN  \n",
       "2         NaN         NaN        NaN        NaN        NaN        NaN  \n",
       "3         NaN         NaN      value        NaN        NaN        NaN  \n",
       "4          15         NaN        400        NaN        NaN        NaN  \n",
       "5         NaN         NaN        NaN        NaN        NaN        NaN  \n",
       "6         NaN         NaN        LHS        NaN        RHS      slack  \n",
       "7           5         NaN        150         <=        200         50  \n",
       "8           3         NaN         90         <=         90          0  \n",
       "9           4         NaN        110         <=        120         10  \n",
       "10          2         NaN         70         <=         75          5  \n",
       "11          2         NaN         40         <=         40          0  "
      ]
     },
     "execution_count": 83,
     "metadata": {},
     "output_type": "execute_result"
    }
   ],
   "source": [
    "raw_data = pd.read_excel(\"Homework 3 OMs.xlsx\", sheet_name=\"2.2\")\n",
    "raw_data"
   ]
  },
  {
   "cell_type": "markdown",
   "metadata": {},
   "source": [
    "This next cell extracts the coefficients of the objective function (revenue) and the LHS of the resource constraints for the various ingredients.  You do not need to modify this cell, assuming you followed instructions in the previous cell."
   ]
  },
  {
   "cell_type": "code",
   "execution_count": 84,
   "metadata": {},
   "outputs": [
    {
     "data": {
      "text/html": [
       "<div>\n",
       "<style scoped>\n",
       "    .dataframe tbody tr th:only-of-type {\n",
       "        vertical-align: middle;\n",
       "    }\n",
       "\n",
       "    .dataframe tbody tr th {\n",
       "        vertical-align: top;\n",
       "    }\n",
       "\n",
       "    .dataframe thead th {\n",
       "        text-align: right;\n",
       "    }\n",
       "</style>\n",
       "<table border=\"1\" class=\"dataframe\">\n",
       "  <thead>\n",
       "    <tr style=\"text-align: right;\">\n",
       "      <th></th>\n",
       "      <th>plain</th>\n",
       "      <th>meat</th>\n",
       "      <th>veggie</th>\n",
       "      <th>supreme</th>\n",
       "    </tr>\n",
       "  </thead>\n",
       "  <tbody>\n",
       "    <tr>\n",
       "      <th>revenue</th>\n",
       "      <td>8</td>\n",
       "      <td>10</td>\n",
       "      <td>12</td>\n",
       "      <td>15</td>\n",
       "    </tr>\n",
       "    <tr>\n",
       "      <th>dough</th>\n",
       "      <td>5</td>\n",
       "      <td>5</td>\n",
       "      <td>5</td>\n",
       "      <td>5</td>\n",
       "    </tr>\n",
       "    <tr>\n",
       "      <th>sauce</th>\n",
       "      <td>3</td>\n",
       "      <td>3</td>\n",
       "      <td>3</td>\n",
       "      <td>3</td>\n",
       "    </tr>\n",
       "    <tr>\n",
       "      <th>cheese</th>\n",
       "      <td>4</td>\n",
       "      <td>3</td>\n",
       "      <td>3</td>\n",
       "      <td>4</td>\n",
       "    </tr>\n",
       "    <tr>\n",
       "      <th>meat</th>\n",
       "      <td>0</td>\n",
       "      <td>3</td>\n",
       "      <td>0</td>\n",
       "      <td>2</td>\n",
       "    </tr>\n",
       "    <tr>\n",
       "      <th>veggies</th>\n",
       "      <td>0</td>\n",
       "      <td>0</td>\n",
       "      <td>3</td>\n",
       "      <td>2</td>\n",
       "    </tr>\n",
       "  </tbody>\n",
       "</table>\n",
       "</div>"
      ],
      "text/plain": [
       "        plain meat veggie supreme\n",
       "revenue     8   10     12      15\n",
       "dough       5    5      5       5\n",
       "sauce       3    3      3       3\n",
       "cheese      4    3      3       4\n",
       "meat        0    3      0       2\n",
       "veggies     0    0      3       2"
      ]
     },
     "execution_count": 84,
     "metadata": {},
     "output_type": "execute_result"
    }
   ],
   "source": [
    "coef = pd.DataFrame(raw_data.iloc[[4, 7, 8, 9, 10, 11], 1:5])\n",
    "coef.index = ['revenue', 'dough', 'sauce', 'cheese', 'meat', 'veggies']\n",
    "coef.columns = ['plain', 'meat', 'veggie', 'supreme']\n",
    "coef"
   ]
  },
  {
   "cell_type": "markdown",
   "metadata": {},
   "source": [
    "The next cell reads in the RHS of the constraints into their own dataframe.  You do not need to modify this cell."
   ]
  },
  {
   "cell_type": "code",
   "execution_count": 85,
   "metadata": {},
   "outputs": [
    {
     "data": {
      "text/html": [
       "<div>\n",
       "<style scoped>\n",
       "    .dataframe tbody tr th:only-of-type {\n",
       "        vertical-align: middle;\n",
       "    }\n",
       "\n",
       "    .dataframe tbody tr th {\n",
       "        vertical-align: top;\n",
       "    }\n",
       "\n",
       "    .dataframe thead th {\n",
       "        text-align: right;\n",
       "    }\n",
       "</style>\n",
       "<table border=\"1\" class=\"dataframe\">\n",
       "  <thead>\n",
       "    <tr style=\"text-align: right;\">\n",
       "      <th></th>\n",
       "      <th>rhs</th>\n",
       "    </tr>\n",
       "  </thead>\n",
       "  <tbody>\n",
       "    <tr>\n",
       "      <th>dough</th>\n",
       "      <td>200</td>\n",
       "    </tr>\n",
       "    <tr>\n",
       "      <th>sauce</th>\n",
       "      <td>90</td>\n",
       "    </tr>\n",
       "    <tr>\n",
       "      <th>cheese</th>\n",
       "      <td>120</td>\n",
       "    </tr>\n",
       "    <tr>\n",
       "      <th>meat</th>\n",
       "      <td>75</td>\n",
       "    </tr>\n",
       "    <tr>\n",
       "      <th>veggies</th>\n",
       "      <td>40</td>\n",
       "    </tr>\n",
       "  </tbody>\n",
       "</table>\n",
       "</div>"
      ],
      "text/plain": [
       "         rhs\n",
       "dough    200\n",
       "sauce     90\n",
       "cheese   120\n",
       "meat      75\n",
       "veggies   40"
      ]
     },
     "execution_count": 85,
     "metadata": {},
     "output_type": "execute_result"
    }
   ],
   "source": [
    "rhs = pd.DataFrame(raw_data.iloc[7:12, 8])\n",
    "rhs.index = coef.index[1:]\n",
    "rhs.columns = ['rhs']\n",
    "rhs"
   ]
  },
  {
   "cell_type": "markdown",
   "metadata": {},
   "source": [
    "### Create a Pyomo model"
   ]
  },
  {
   "cell_type": "markdown",
   "metadata": {},
   "source": [
    "In this section you will instantiate the decision variables, objective function and constraints for a Pyomo model that solves Exercise 2.2."
   ]
  },
  {
   "cell_type": "markdown",
   "metadata": {},
   "source": [
    "First, import the pyomo.environ module as `pe`."
   ]
  },
  {
   "cell_type": "code",
   "execution_count": 95,
   "metadata": {},
   "outputs": [],
   "source": [
    "import pyomo.environ as pe"
   ]
  },
  {
   "cell_type": "markdown",
   "metadata": {},
   "source": [
    "Next, instantiate a ConcreteModel and store it in the variable `model`."
   ]
  },
  {
   "cell_type": "code",
   "execution_count": 96,
   "metadata": {},
   "outputs": [],
   "source": [
    "model = pe.ConcreteModel()"
   ]
  },
  {
   "cell_type": "markdown",
   "metadata": {},
   "source": [
    "Create a list called `decision_index` containing indexes for the decision variables ranging from 0 to 3."
   ]
  },
  {
   "cell_type": "code",
   "execution_count": 97,
   "metadata": {},
   "outputs": [],
   "source": [
    "decision_index = list(range(4))"
   ]
  },
  {
   "cell_type": "markdown",
   "metadata": {},
   "source": [
    "Create a pyomo variable named `x` with domain of nonnegative of real numbers.  Make sure you \"attach\" this variable to the `model` object."
   ]
  },
  {
   "cell_type": "code",
   "execution_count": 98,
   "metadata": {},
   "outputs": [],
   "source": [
    "model.x = pe.Var(decision_index, domain=pe.NonNegativeReals)"
   ]
  },
  {
   "cell_type": "markdown",
   "metadata": {},
   "source": [
    "The next cell defines the objective function `obj` using the data in the `coefficients` dataframe.  The expression argument, `expr=...`, shows a shorthand way to represent a sumproduct using a \"list comprehension\".  The `sense=-1` argument tells Pyomo that you want to maximize (`sense=1` is minimization, the default)."
   ]
  },
  {
   "cell_type": "code",
   "execution_count": 99,
   "metadata": {},
   "outputs": [],
   "source": [
    "model.obj = pe.Objective(expr=sum([coef.iloc[0,i]*model.x[i] for i in decision_index]), sense=-1)"
   ]
  },
  {
   "cell_type": "markdown",
   "metadata": {},
   "source": [
    "Next we need to define the five constraints using the data in the `coefficients` and `rhs` dataframes.  Make sure to \"attach\" each constraint to the `model` object.\n",
    "\n",
    "You've been given the first constraint for \"dough\" which shows how to use a list comprehension to calculate the LHS sumproduct.  Try to reuse this expression to create the other four constraints."
   ]
  },
  {
   "cell_type": "code",
   "execution_count": 100,
   "metadata": {},
   "outputs": [],
   "source": [
    "model.cons_dough = pe.Constraint(expr=sum([coef.iloc[1, i]*model.x[i] for i in decision_index]) <= rhs.iloc[0, 0])\n",
    "model.cons_sauce = pe.Constraint(expr=sum([coef.iloc[2, i]*model.x[i] for i in decision_index]) <= rhs.iloc[1, 0])\n",
    "model.cons_cheese = pe.Constraint(expr=sum([coef.iloc[3, i]*model.x[i] for i in decision_index]) <= rhs.iloc[2, 0])\n",
    "model.cons_meat = pe.Constraint(expr=sum([coef.iloc[4, i]*model.x[i] for i in decision_index]) <= rhs.iloc[3, 0])\n",
    "model.cons_veggie = pe.Constraint(expr=sum([coef.iloc[5, i]*model.x[i] for i in decision_index]) <= rhs.iloc[4, 0])"
   ]
  },
  {
   "cell_type": "markdown",
   "metadata": {},
   "source": [
    "### Run the solver and examine the solution"
   ]
  },
  {
   "cell_type": "code",
   "execution_count": 101,
   "metadata": {},
   "outputs": [
    {
     "name": "stdout",
     "output_type": "stream",
     "text": [
      "GLPSOL: GLPK LP/MIP Solver, v4.65\n",
      "Parameter(s) specified in the command line:\n",
      " --write /var/folders/j6/vzm_9p_j4_x08rrgkr0f7cb84vgyj9/T/tmpbje5p6hg.glpk.raw\n",
      " --wglp /var/folders/j6/vzm_9p_j4_x08rrgkr0f7cb84vgyj9/T/tmpujj1y18y.glpk.glp\n",
      " --cpxlp /var/folders/j6/vzm_9p_j4_x08rrgkr0f7cb84vgyj9/T/tmpif3q1zwn.pyomo.lp\n",
      "Reading problem data from '/var/folders/j6/vzm_9p_j4_x08rrgkr0f7cb84vgyj9/T/tmpif3q1zwn.pyomo.lp'...\n",
      "6 rows, 5 columns, 17 non-zeros\n",
      "51 lines were read\n",
      "Writing problem data to '/var/folders/j6/vzm_9p_j4_x08rrgkr0f7cb84vgyj9/T/tmpujj1y18y.glpk.glp'...\n",
      "41 lines were written\n",
      "GLPK Simplex Optimizer, v4.65\n",
      "6 rows, 5 columns, 17 non-zeros\n",
      "Preprocessing...\n",
      "5 rows, 4 columns, 16 non-zeros\n",
      "Scaling...\n",
      " A: min|aij| =  2.000e+00  max|aij| =  5.000e+00  ratio =  2.500e+00\n",
      "Problem data seem to be well scaled\n",
      "Constructing initial basis...\n",
      "Size of triangular part is 5\n",
      "*     0: obj =  -0.000000000e+00 inf =   0.000e+00 (4)\n",
      "*     2: obj =   4.000000000e+02 inf =   0.000e+00 (0)\n",
      "OPTIMAL LP SOLUTION FOUND\n",
      "Time used:   0.0 secs\n",
      "Memory used: 0.0 Mb (40448 bytes)\n",
      "Writing basic solution to '/var/folders/j6/vzm_9p_j4_x08rrgkr0f7cb84vgyj9/T/tmpbje5p6hg.glpk.raw'...\n",
      "20 lines were written\n"
     ]
    }
   ],
   "source": [
    "# Run the solver.\n",
    "opt = pe.SolverFactory('glpk')\n",
    "success = opt.solve(model, tee=True)"
   ]
  },
  {
   "cell_type": "markdown",
   "metadata": {},
   "source": [
    "This next cell will help you determine whether the solver found a solution or had an error (like poorly defined constraints, or infeasibility).  Pay particular attention to the \"Solver\" part of the output."
   ]
  },
  {
   "cell_type": "code",
   "execution_count": 102,
   "metadata": {},
   "outputs": [
    {
     "name": "stdout",
     "output_type": "stream",
     "text": [
      "\n",
      "Problem: \n",
      "- Name: unknown\n",
      "  Lower bound: 400.0\n",
      "  Upper bound: 400.0\n",
      "  Number of objectives: 1\n",
      "  Number of constraints: 6\n",
      "  Number of variables: 5\n",
      "  Number of nonzeros: 17\n",
      "  Sense: maximize\n",
      "Solver: \n",
      "- Status: ok\n",
      "  Termination condition: optimal\n",
      "  Statistics: \n",
      "    Branch and bound: \n",
      "      Number of bounded subproblems: 0\n",
      "      Number of created subproblems: 0\n",
      "  Error rc: 0\n",
      "  Time: 0.03046870231628418\n",
      "Solution: \n",
      "- number of solutions: 0\n",
      "  number of solutions displayed: 0\n",
      "\n"
     ]
    }
   ],
   "source": [
    "print(success)"
   ]
  },
  {
   "cell_type": "markdown",
   "metadata": {},
   "source": [
    "The next cell will extract the objective function and optimal solution (assuming the solver found a solution).  You do not need to modify this cell."
   ]
  },
  {
   "cell_type": "code",
   "execution_count": 103,
   "metadata": {},
   "outputs": [
    {
     "name": "stdout",
     "output_type": "stream",
     "text": [
      "optimal objective value = 400.0\n",
      "optimal x = [0.0, 10.0, 0.0, 20.0]\n"
     ]
    }
   ],
   "source": [
    "obj_val = model.obj.expr()\n",
    "print('optimal objective value = {}'.format(obj_val))\n",
    "\n",
    "x = []\n",
    "for index in model.x_index.value_list:\n",
    "    x.append(model.x[index].value)\n",
    "print('optimal x = {}'.format(x))"
   ]
  },
  {
   "cell_type": "markdown",
   "metadata": {},
   "source": [
    "Finally, print the slack in each constraint.  The expression to print the slack in the \"dough\" constraint is given."
   ]
  },
  {
   "cell_type": "code",
   "execution_count": 104,
   "metadata": {},
   "outputs": [
    {
     "name": "stdout",
     "output_type": "stream",
     "text": [
      "dough slack = 50.0\n"
     ]
    }
   ],
   "source": [
    "#MODIFY\n",
    "print('dough slack = {}'.format(model.cons_dough.slack()))"
   ]
  },
  {
   "cell_type": "code",
   "execution_count": null,
   "metadata": {},
   "outputs": [],
   "source": []
  },
  {
   "cell_type": "markdown",
   "metadata": {},
   "source": [
    "# Problem 3 - Optimization Modeling Exercise 6.5"
   ]
  },
  {
   "cell_type": "markdown",
   "metadata": {},
   "source": [
    "See if you can do this one yourself.  To receive full credit, you must read data into two dataframes (like `coef` and `rhs` in the previous problem) and use this to define the objective and constraints."
   ]
  },
  {
   "cell_type": "code",
   "execution_count": 115,
   "metadata": {},
   "outputs": [
    {
     "data": {
      "text/html": [
       "<div>\n",
       "<style scoped>\n",
       "    .dataframe tbody tr th:only-of-type {\n",
       "        vertical-align: middle;\n",
       "    }\n",
       "\n",
       "    .dataframe tbody tr th {\n",
       "        vertical-align: top;\n",
       "    }\n",
       "\n",
       "    .dataframe thead th {\n",
       "        text-align: right;\n",
       "    }\n",
       "</style>\n",
       "<table border=\"1\" class=\"dataframe\">\n",
       "  <thead>\n",
       "    <tr style=\"text-align: right;\">\n",
       "      <th></th>\n",
       "      <th>Data</th>\n",
       "      <th>Unnamed: 1</th>\n",
       "      <th>Unnamed: 2</th>\n",
       "      <th>Unnamed: 3</th>\n",
       "      <th>Unnamed: 4</th>\n",
       "      <th>Unnamed: 5</th>\n",
       "      <th>Unnamed: 6</th>\n",
       "      <th>Unnamed: 7</th>\n",
       "      <th>Unnamed: 8</th>\n",
       "      <th>Unnamed: 9</th>\n",
       "    </tr>\n",
       "  </thead>\n",
       "  <tbody>\n",
       "    <tr>\n",
       "      <th>0</th>\n",
       "      <td>NaN</td>\n",
       "      <td>Number of available scientists</td>\n",
       "      <td>40</td>\n",
       "      <td>NaN</td>\n",
       "      <td>NaN</td>\n",
       "      <td>NaN</td>\n",
       "      <td>NaN</td>\n",
       "      <td>NaN</td>\n",
       "      <td>NaN</td>\n",
       "      <td>NaN</td>\n",
       "    </tr>\n",
       "    <tr>\n",
       "      <th>1</th>\n",
       "      <td>NaN</td>\n",
       "      <td>Available budget</td>\n",
       "      <td>300000</td>\n",
       "      <td>NaN</td>\n",
       "      <td>NaN</td>\n",
       "      <td>NaN</td>\n",
       "      <td>NaN</td>\n",
       "      <td>NaN</td>\n",
       "      <td>NaN</td>\n",
       "      <td>NaN</td>\n",
       "    </tr>\n",
       "    <tr>\n",
       "      <th>2</th>\n",
       "      <td>NaN</td>\n",
       "      <td>NaN</td>\n",
       "      <td>NaN</td>\n",
       "      <td>NaN</td>\n",
       "      <td>NaN</td>\n",
       "      <td>NaN</td>\n",
       "      <td>NaN</td>\n",
       "      <td>NaN</td>\n",
       "      <td>NaN</td>\n",
       "      <td>NaN</td>\n",
       "    </tr>\n",
       "    <tr>\n",
       "      <th>3</th>\n",
       "      <td>NaN</td>\n",
       "      <td>NaN</td>\n",
       "      <td>NaN</td>\n",
       "      <td>NaN</td>\n",
       "      <td>NaN</td>\n",
       "      <td>NaN</td>\n",
       "      <td>NaN</td>\n",
       "      <td>NaN</td>\n",
       "      <td>NaN</td>\n",
       "      <td>NaN</td>\n",
       "    </tr>\n",
       "    <tr>\n",
       "      <th>4</th>\n",
       "      <td>NaN</td>\n",
       "      <td>Project</td>\n",
       "      <td>1</td>\n",
       "      <td>2</td>\n",
       "      <td>3</td>\n",
       "      <td>4</td>\n",
       "      <td>5</td>\n",
       "      <td>6</td>\n",
       "      <td>7</td>\n",
       "      <td>8</td>\n",
       "    </tr>\n",
       "    <tr>\n",
       "      <th>5</th>\n",
       "      <td>NaN</td>\n",
       "      <td>Expense ($000)</td>\n",
       "      <td>60</td>\n",
       "      <td>110</td>\n",
       "      <td>53</td>\n",
       "      <td>47</td>\n",
       "      <td>92</td>\n",
       "      <td>85</td>\n",
       "      <td>73</td>\n",
       "      <td>65</td>\n",
       "    </tr>\n",
       "    <tr>\n",
       "      <th>6</th>\n",
       "      <td>NaN</td>\n",
       "      <td>Scientists Required</td>\n",
       "      <td>7</td>\n",
       "      <td>9</td>\n",
       "      <td>8</td>\n",
       "      <td>4</td>\n",
       "      <td>7</td>\n",
       "      <td>6</td>\n",
       "      <td>8</td>\n",
       "      <td>5</td>\n",
       "    </tr>\n",
       "    <tr>\n",
       "      <th>7</th>\n",
       "      <td>NaN</td>\n",
       "      <td>Profit ($000)</td>\n",
       "      <td>36</td>\n",
       "      <td>82</td>\n",
       "      <td>29</td>\n",
       "      <td>16</td>\n",
       "      <td>56</td>\n",
       "      <td>61</td>\n",
       "      <td>48</td>\n",
       "      <td>41</td>\n",
       "    </tr>\n",
       "    <tr>\n",
       "      <th>8</th>\n",
       "      <td>NaN</td>\n",
       "      <td>NaN</td>\n",
       "      <td>NaN</td>\n",
       "      <td>NaN</td>\n",
       "      <td>NaN</td>\n",
       "      <td>NaN</td>\n",
       "      <td>NaN</td>\n",
       "      <td>NaN</td>\n",
       "      <td>NaN</td>\n",
       "      <td>NaN</td>\n",
       "    </tr>\n",
       "    <tr>\n",
       "      <th>9</th>\n",
       "      <td>Decisions</td>\n",
       "      <td>NaN</td>\n",
       "      <td>Project 1</td>\n",
       "      <td>Project 2</td>\n",
       "      <td>Project 3</td>\n",
       "      <td>Project 4</td>\n",
       "      <td>Project 5</td>\n",
       "      <td>Project 6</td>\n",
       "      <td>Project 7</td>\n",
       "      <td>Project 8</td>\n",
       "    </tr>\n",
       "    <tr>\n",
       "      <th>10</th>\n",
       "      <td>NaN</td>\n",
       "      <td>NaN</td>\n",
       "      <td>1</td>\n",
       "      <td>1</td>\n",
       "      <td>1</td>\n",
       "      <td>0</td>\n",
       "      <td>0</td>\n",
       "      <td>0</td>\n",
       "      <td>1</td>\n",
       "      <td>0</td>\n",
       "    </tr>\n",
       "    <tr>\n",
       "      <th>11</th>\n",
       "      <td>NaN</td>\n",
       "      <td>NaN</td>\n",
       "      <td>NaN</td>\n",
       "      <td>NaN</td>\n",
       "      <td>NaN</td>\n",
       "      <td>NaN</td>\n",
       "      <td>NaN</td>\n",
       "      <td>NaN</td>\n",
       "      <td>NaN</td>\n",
       "      <td>NaN</td>\n",
       "    </tr>\n",
       "    <tr>\n",
       "      <th>12</th>\n",
       "      <td>Objective:  Maximize profit</td>\n",
       "      <td>NaN</td>\n",
       "      <td>195</td>\n",
       "      <td>NaN</td>\n",
       "      <td>NaN</td>\n",
       "      <td>NaN</td>\n",
       "      <td>NaN</td>\n",
       "      <td>NaN</td>\n",
       "      <td>NaN</td>\n",
       "      <td>NaN</td>\n",
       "    </tr>\n",
       "    <tr>\n",
       "      <th>13</th>\n",
       "      <td>NaN</td>\n",
       "      <td>NaN</td>\n",
       "      <td>NaN</td>\n",
       "      <td>NaN</td>\n",
       "      <td>NaN</td>\n",
       "      <td>NaN</td>\n",
       "      <td>NaN</td>\n",
       "      <td>NaN</td>\n",
       "      <td>NaN</td>\n",
       "      <td>NaN</td>\n",
       "    </tr>\n",
       "    <tr>\n",
       "      <th>14</th>\n",
       "      <td>NaN</td>\n",
       "      <td>NaN</td>\n",
       "      <td>NaN</td>\n",
       "      <td>NaN</td>\n",
       "      <td>NaN</td>\n",
       "      <td>NaN</td>\n",
       "      <td>NaN</td>\n",
       "      <td>NaN</td>\n",
       "      <td>NaN</td>\n",
       "      <td>NaN</td>\n",
       "    </tr>\n",
       "    <tr>\n",
       "      <th>15</th>\n",
       "      <td>Constraints</td>\n",
       "      <td>NaN</td>\n",
       "      <td>LHS</td>\n",
       "      <td>NaN</td>\n",
       "      <td>RHS</td>\n",
       "      <td>NaN</td>\n",
       "      <td>NaN</td>\n",
       "      <td>NaN</td>\n",
       "      <td>NaN</td>\n",
       "      <td>NaN</td>\n",
       "    </tr>\n",
       "    <tr>\n",
       "      <th>16</th>\n",
       "      <td>NaN</td>\n",
       "      <td>Binary decisions</td>\n",
       "      <td>(see Solver)</td>\n",
       "      <td>NaN</td>\n",
       "      <td>NaN</td>\n",
       "      <td>NaN</td>\n",
       "      <td>NaN</td>\n",
       "      <td>NaN</td>\n",
       "      <td>NaN</td>\n",
       "      <td>NaN</td>\n",
       "    </tr>\n",
       "    <tr>\n",
       "      <th>17</th>\n",
       "      <td>NaN</td>\n",
       "      <td>Expenses must be within budget</td>\n",
       "      <td>296000</td>\n",
       "      <td>&lt;=</td>\n",
       "      <td>300000</td>\n",
       "      <td>NaN</td>\n",
       "      <td>NaN</td>\n",
       "      <td>NaN</td>\n",
       "      <td>NaN</td>\n",
       "      <td>NaN</td>\n",
       "    </tr>\n",
       "    <tr>\n",
       "      <th>18</th>\n",
       "      <td>NaN</td>\n",
       "      <td>Scientists must be within budget</td>\n",
       "      <td>32</td>\n",
       "      <td>&lt;=</td>\n",
       "      <td>40</td>\n",
       "      <td>NaN</td>\n",
       "      <td>NaN</td>\n",
       "      <td>NaN</td>\n",
       "      <td>NaN</td>\n",
       "      <td>NaN</td>\n",
       "    </tr>\n",
       "    <tr>\n",
       "      <th>19</th>\n",
       "      <td>NaN</td>\n",
       "      <td>Either 2 or 5 but not both</td>\n",
       "      <td>1</td>\n",
       "      <td>&lt;=</td>\n",
       "      <td>1</td>\n",
       "      <td>NaN</td>\n",
       "      <td>NaN</td>\n",
       "      <td>NaN</td>\n",
       "      <td>NaN</td>\n",
       "      <td>NaN</td>\n",
       "    </tr>\n",
       "    <tr>\n",
       "      <th>20</th>\n",
       "      <td>NaN</td>\n",
       "      <td>At least 2 of proj. 5-8</td>\n",
       "      <td>1</td>\n",
       "      <td>&gt;=</td>\n",
       "      <td>2</td>\n",
       "      <td>NaN</td>\n",
       "      <td>NaN</td>\n",
       "      <td>NaN</td>\n",
       "      <td>NaN</td>\n",
       "      <td>NaN</td>\n",
       "    </tr>\n",
       "  </tbody>\n",
       "</table>\n",
       "</div>"
      ],
      "text/plain": [
       "                          Data                         Unnamed: 1  \\\n",
       "0                           NaN    Number of available scientists   \n",
       "1                           NaN                  Available budget   \n",
       "2                           NaN                               NaN   \n",
       "3                           NaN                               NaN   \n",
       "4                           NaN                           Project   \n",
       "5                           NaN                    Expense ($000)   \n",
       "6                           NaN               Scientists Required   \n",
       "7                           NaN                     Profit ($000)   \n",
       "8                           NaN                               NaN   \n",
       "9                     Decisions                               NaN   \n",
       "10                          NaN                               NaN   \n",
       "11                          NaN                               NaN   \n",
       "12  Objective:  Maximize profit                               NaN   \n",
       "13                          NaN                               NaN   \n",
       "14                          NaN                               NaN   \n",
       "15                  Constraints                               NaN   \n",
       "16                          NaN                  Binary decisions   \n",
       "17                          NaN    Expenses must be within budget   \n",
       "18                          NaN  Scientists must be within budget   \n",
       "19                          NaN        Either 2 or 5 but not both   \n",
       "20                          NaN           At least 2 of proj. 5-8   \n",
       "\n",
       "      Unnamed: 2 Unnamed: 3 Unnamed: 4 Unnamed: 5 Unnamed: 6 Unnamed: 7  \\\n",
       "0             40        NaN        NaN        NaN        NaN        NaN   \n",
       "1         300000        NaN        NaN        NaN        NaN        NaN   \n",
       "2            NaN        NaN        NaN        NaN        NaN        NaN   \n",
       "3            NaN        NaN        NaN        NaN        NaN        NaN   \n",
       "4              1          2          3          4          5          6   \n",
       "5             60        110         53         47         92         85   \n",
       "6              7          9          8          4          7          6   \n",
       "7             36         82         29         16         56         61   \n",
       "8            NaN        NaN        NaN        NaN        NaN        NaN   \n",
       "9      Project 1  Project 2  Project 3  Project 4  Project 5  Project 6   \n",
       "10             1          1          1          0          0          0   \n",
       "11           NaN        NaN        NaN        NaN        NaN        NaN   \n",
       "12           195        NaN        NaN        NaN        NaN        NaN   \n",
       "13           NaN        NaN        NaN        NaN        NaN        NaN   \n",
       "14           NaN        NaN        NaN        NaN        NaN        NaN   \n",
       "15           LHS        NaN        RHS        NaN        NaN        NaN   \n",
       "16  (see Solver)        NaN        NaN        NaN        NaN        NaN   \n",
       "17        296000         <=     300000        NaN        NaN        NaN   \n",
       "18            32         <=         40        NaN        NaN        NaN   \n",
       "19             1         <=          1        NaN        NaN        NaN   \n",
       "20             1         >=          2        NaN        NaN        NaN   \n",
       "\n",
       "   Unnamed: 8 Unnamed: 9  \n",
       "0         NaN        NaN  \n",
       "1         NaN        NaN  \n",
       "2         NaN        NaN  \n",
       "3         NaN        NaN  \n",
       "4           7          8  \n",
       "5          73         65  \n",
       "6           8          5  \n",
       "7          48         41  \n",
       "8         NaN        NaN  \n",
       "9   Project 7  Project 8  \n",
       "10          1          0  \n",
       "11        NaN        NaN  \n",
       "12        NaN        NaN  \n",
       "13        NaN        NaN  \n",
       "14        NaN        NaN  \n",
       "15        NaN        NaN  \n",
       "16        NaN        NaN  \n",
       "17        NaN        NaN  \n",
       "18        NaN        NaN  \n",
       "19        NaN        NaN  \n",
       "20        NaN        NaN  "
      ]
     },
     "execution_count": 115,
     "metadata": {},
     "output_type": "execute_result"
    }
   ],
   "source": [
    "raw_data = pd.read_excel(\"Homework 3 OMs.xlsx\", sheet_name=\"6.5\")\n",
    "raw_data"
   ]
  },
  {
   "cell_type": "code",
   "execution_count": 144,
   "metadata": {},
   "outputs": [
    {
     "data": {
      "text/html": [
       "<div>\n",
       "<style scoped>\n",
       "    .dataframe tbody tr th:only-of-type {\n",
       "        vertical-align: middle;\n",
       "    }\n",
       "\n",
       "    .dataframe tbody tr th {\n",
       "        vertical-align: top;\n",
       "    }\n",
       "\n",
       "    .dataframe thead th {\n",
       "        text-align: right;\n",
       "    }\n",
       "</style>\n",
       "<table border=\"1\" class=\"dataframe\">\n",
       "  <thead>\n",
       "    <tr style=\"text-align: right;\">\n",
       "      <th></th>\n",
       "      <th>0</th>\n",
       "      <th>1</th>\n",
       "      <th>2</th>\n",
       "      <th>3</th>\n",
       "      <th>4</th>\n",
       "      <th>5</th>\n",
       "      <th>6</th>\n",
       "      <th>7</th>\n",
       "    </tr>\n",
       "  </thead>\n",
       "  <tbody>\n",
       "    <tr>\n",
       "      <th>expense</th>\n",
       "      <td>60</td>\n",
       "      <td>110</td>\n",
       "      <td>53</td>\n",
       "      <td>47</td>\n",
       "      <td>92</td>\n",
       "      <td>85</td>\n",
       "      <td>73</td>\n",
       "      <td>65</td>\n",
       "    </tr>\n",
       "    <tr>\n",
       "      <th>scientists</th>\n",
       "      <td>7</td>\n",
       "      <td>9</td>\n",
       "      <td>8</td>\n",
       "      <td>4</td>\n",
       "      <td>7</td>\n",
       "      <td>6</td>\n",
       "      <td>8</td>\n",
       "      <td>5</td>\n",
       "    </tr>\n",
       "    <tr>\n",
       "      <th>profit</th>\n",
       "      <td>36</td>\n",
       "      <td>82</td>\n",
       "      <td>29</td>\n",
       "      <td>16</td>\n",
       "      <td>56</td>\n",
       "      <td>61</td>\n",
       "      <td>48</td>\n",
       "      <td>41</td>\n",
       "    </tr>\n",
       "  </tbody>\n",
       "</table>\n",
       "</div>"
      ],
      "text/plain": [
       "             0    1   2   3   4   5   6   7\n",
       "expense     60  110  53  47  92  85  73  65\n",
       "scientists   7    9   8   4   7   6   8   5\n",
       "profit      36   82  29  16  56  61  48  41"
      ]
     },
     "execution_count": 144,
     "metadata": {},
     "output_type": "execute_result"
    }
   ],
   "source": [
    "coef = pd.DataFrame(raw_data.iloc[5:8, 2:10])\n",
    "coef.index = ['expense', 'scientists', 'profit']\n",
    "coef.columns = range(8)\n",
    "coef"
   ]
  },
  {
   "cell_type": "code",
   "execution_count": 145,
   "metadata": {},
   "outputs": [
    {
     "data": {
      "text/html": [
       "<div>\n",
       "<style scoped>\n",
       "    .dataframe tbody tr th:only-of-type {\n",
       "        vertical-align: middle;\n",
       "    }\n",
       "\n",
       "    .dataframe tbody tr th {\n",
       "        vertical-align: top;\n",
       "    }\n",
       "\n",
       "    .dataframe thead th {\n",
       "        text-align: right;\n",
       "    }\n",
       "</style>\n",
       "<table border=\"1\" class=\"dataframe\">\n",
       "  <thead>\n",
       "    <tr style=\"text-align: right;\">\n",
       "      <th></th>\n",
       "      <th>rhs</th>\n",
       "    </tr>\n",
       "  </thead>\n",
       "  <tbody>\n",
       "    <tr>\n",
       "      <th>budget</th>\n",
       "      <td>300000</td>\n",
       "    </tr>\n",
       "    <tr>\n",
       "      <th>scientists</th>\n",
       "      <td>40</td>\n",
       "    </tr>\n",
       "    <tr>\n",
       "      <th>2 xor 5</th>\n",
       "      <td>1</td>\n",
       "    </tr>\n",
       "    <tr>\n",
       "      <th>2 of 5-8</th>\n",
       "      <td>2</td>\n",
       "    </tr>\n",
       "  </tbody>\n",
       "</table>\n",
       "</div>"
      ],
      "text/plain": [
       "               rhs\n",
       "budget      300000\n",
       "scientists      40\n",
       "2 xor 5          1\n",
       "2 of 5-8         2"
      ]
     },
     "execution_count": 145,
     "metadata": {},
     "output_type": "execute_result"
    }
   ],
   "source": [
    "rhs = pd.DataFrame(raw_data.iloc[17:21, 4])\n",
    "rhs.index = ['budget', 'scientists', '2 xor 5', '2 of 5-8']\n",
    "rhs.columns = ['rhs']\n",
    "rhs"
   ]
  },
  {
   "cell_type": "code",
   "execution_count": 150,
   "metadata": {},
   "outputs": [
    {
     "name": "stdout",
     "output_type": "stream",
     "text": [
      "GLPSOL: GLPK LP/MIP Solver, v4.65\n",
      "Parameter(s) specified in the command line:\n",
      " --write /var/folders/j6/vzm_9p_j4_x08rrgkr0f7cb84vgyj9/T/tmpudkx6157.glpk.raw\n",
      " --wglp /var/folders/j6/vzm_9p_j4_x08rrgkr0f7cb84vgyj9/T/tmph9icnzui.glpk.glp\n",
      " --cpxlp /var/folders/j6/vzm_9p_j4_x08rrgkr0f7cb84vgyj9/T/tmp2qbd5ok0.pyomo.lp\n",
      "Reading problem data from '/var/folders/j6/vzm_9p_j4_x08rrgkr0f7cb84vgyj9/T/tmp2qbd5ok0.pyomo.lp'...\n",
      "/var/folders/j6/vzm_9p_j4_x08rrgkr0f7cb84vgyj9/T/tmp2qbd5ok0.pyomo.lp:63: warning: lower bound of variable 'x1' redefined\n",
      "/var/folders/j6/vzm_9p_j4_x08rrgkr0f7cb84vgyj9/T/tmp2qbd5ok0.pyomo.lp:63: warning: upper bound of variable 'x1' redefined\n",
      "5 rows, 9 columns, 23 non-zeros\n",
      "8 integer variables, all of which are binary\n",
      "71 lines were read\n",
      "Writing problem data to '/var/folders/j6/vzm_9p_j4_x08rrgkr0f7cb84vgyj9/T/tmph9icnzui.glpk.glp'...\n",
      "54 lines were written\n",
      "GLPK Integer Optimizer, v4.65\n",
      "5 rows, 9 columns, 23 non-zeros\n",
      "8 integer variables, all of which are binary\n",
      "Preprocessing...\n",
      "4 rows, 8 columns, 22 non-zeros\n",
      "8 integer variables, all of which are binary\n",
      "Scaling...\n",
      " A: min|aij| =  1.000e+00  max|aij| =  1.100e+05  ratio =  1.100e+05\n",
      "GM: min|aij| =  8.270e-01  max|aij| =  1.209e+00  ratio =  1.462e+00\n",
      "EQ: min|aij| =  6.838e-01  max|aij| =  1.000e+00  ratio =  1.462e+00\n",
      "2N: min|aij| =  5.000e-01  max|aij| =  1.434e+00  ratio =  2.869e+00\n",
      "Constructing initial basis...\n",
      "Size of triangular part is 4\n",
      "Solving LP relaxation...\n",
      "GLPK Simplex Optimizer, v4.65\n",
      "4 rows, 8 columns, 22 non-zeros\n",
      "      0: obj =  -0.000000000e+00 inf =   2.000e+00 (1)\n",
      "      2: obj =   1.170000000e+02 inf =   0.000e+00 (0)\n",
      "*     6: obj =   2.111846154e+02 inf =   0.000e+00 (0)\n",
      "OPTIMAL LP SOLUTION FOUND\n",
      "Integer optimization begins...\n",
      "Long-step dual simplex will be used\n",
      "+     6: mip =     not found yet <=              +inf        (1; 0)\n",
      "Solution found by heuristic: 191\n",
      "+    20: mip =   1.910000000e+02 <=     tree is empty   0.0% (0; 21)\n",
      "INTEGER OPTIMAL SOLUTION FOUND\n",
      "Time used:   0.0 secs\n",
      "Memory used: 0.1 Mb (65138 bytes)\n",
      "Writing MIP solution to '/var/folders/j6/vzm_9p_j4_x08rrgkr0f7cb84vgyj9/T/tmpudkx6157.glpk.raw'...\n",
      "23 lines were written\n"
     ]
    }
   ],
   "source": [
    "model = pe.ConcreteModel()\n",
    "\n",
    "indexes = list(range(8))\n",
    "model.x = pe.Var(indexes, domain=pe.Binary)\n",
    "model.obj = pe.Objective(expr=sum(coef.iloc[2,i]*model.x[i] for i in indexes), sense=-1)\n",
    "\n",
    "model.cons1 = pe.Constraint(expr=1000.*sum(coef.iloc[0,i]*model.x[i] for i in indexes) <= rhs.loc['budget', 'rhs'])\n",
    "model.cons2 = pe.Constraint(expr=sum(coef.iloc[1,i]*model.x[i] for i in indexes) <= rhs.loc['scientists', 'rhs'])\n",
    "model.cons3 = pe.Constraint(expr=model.x[1]+model.x[4] <= 1)\n",
    "model.cons4 = pe.Constraint(expr=model.x[4]+model.x[5]+model.x[6]+model.x[7] >= 2)\n",
    "\n",
    "opt = pe.SolverFactory('glpk')\n",
    "success = opt.solve(model, tee=True)"
   ]
  },
  {
   "cell_type": "code",
   "execution_count": 151,
   "metadata": {},
   "outputs": [
    {
     "name": "stdout",
     "output_type": "stream",
     "text": [
      "\n",
      "Problem: \n",
      "- Name: unknown\n",
      "  Lower bound: 191.0\n",
      "  Upper bound: 191.0\n",
      "  Number of objectives: 1\n",
      "  Number of constraints: 5\n",
      "  Number of variables: 9\n",
      "  Number of nonzeros: 23\n",
      "  Sense: maximize\n",
      "Solver: \n",
      "- Status: ok\n",
      "  Termination condition: optimal\n",
      "  Statistics: \n",
      "    Branch and bound: \n",
      "      Number of bounded subproblems: 21\n",
      "      Number of created subproblems: 21\n",
      "  Error rc: 0\n",
      "  Time: 0.05381464958190918\n",
      "Solution: \n",
      "- number of solutions: 0\n",
      "  number of solutions displayed: 0\n",
      "\n"
     ]
    }
   ],
   "source": [
    "print(success)"
   ]
  },
  {
   "cell_type": "code",
   "execution_count": 152,
   "metadata": {},
   "outputs": [
    {
     "name": "stdout",
     "output_type": "stream",
     "text": [
      "optimal objective value = 191.0\n",
      "optimal x = [0.0, 1.0, 0.0, 0.0, 0.0, 1.0, 1.0, 0.0]\n"
     ]
    }
   ],
   "source": [
    "obj_val = model.obj.expr()\n",
    "print('optimal objective value = {}'.format(obj_val))\n",
    "\n",
    "x = []\n",
    "for index in model.x_index.value_list:\n",
    "    x.append(model.x[index].value)\n",
    "print('optimal x = {}'.format(x))"
   ]
  },
  {
   "cell_type": "code",
   "execution_count": 155,
   "metadata": {},
   "outputs": [
    {
     "name": "stdout",
     "output_type": "stream",
     "text": [
      "budget slack    = 32000.0\n",
      "scientist slack = 17.0\n",
      "2 xor 5 slack   = 0.0\n",
      "2 of 5-8 slack  = 0.0\n"
     ]
    }
   ],
   "source": [
    "print('budget slack    = {}'.format(model.cons1.slack()))\n",
    "print('scientist slack = {}'.format(model.cons2.slack()))\n",
    "print('2 xor 5 slack   = {}'.format(model.cons3.slack()))\n",
    "print('2 of 5-8 slack  = {}'.format(model.cons4.slack()))"
   ]
  },
  {
   "cell_type": "code",
   "execution_count": null,
   "metadata": {},
   "outputs": [],
   "source": []
  }
 ],
 "metadata": {
  "kernelspec": {
   "display_name": "Python 3",
   "language": "python",
   "name": "python3"
  },
  "language_info": {
   "codemirror_mode": {
    "name": "ipython",
    "version": 3
   },
   "file_extension": ".py",
   "mimetype": "text/x-python",
   "name": "python",
   "nbconvert_exporter": "python",
   "pygments_lexer": "ipython3",
   "version": "3.6.8"
  }
 },
 "nbformat": 4,
 "nbformat_minor": 2
}
