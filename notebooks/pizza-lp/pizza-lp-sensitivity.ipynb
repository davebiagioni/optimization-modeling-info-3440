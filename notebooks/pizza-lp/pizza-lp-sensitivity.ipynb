{
 "cells": [
  {
   "cell_type": "markdown",
   "metadata": {},
   "source": [
    "In this notebook we'll take a look at doing a sensitivity analysis by \"functionizing\" our models.  "
   ]
  },
  {
   "cell_type": "code",
   "execution_count": 1,
   "metadata": {},
   "outputs": [],
   "source": [
    "import pandas as pd\n",
    "\n",
    "# Read in the data first\n",
    "profit = pd.read_excel('pizza-lp-munged.xlsx', sheet_name='profit', index_col=0)\n",
    "resources = pd.read_excel('pizza-lp-munged.xlsx', sheet_name='resources', index_col=0)\n",
    "rhs = pd.read_excel('pizza-lp-munged.xlsx', sheet_name='rhs', index_col=0)"
   ]
  },
  {
   "cell_type": "markdown",
   "metadata": {},
   "source": [
    "# Pizza LP model as a function"
   ]
  },
  {
   "cell_type": "code",
   "execution_count": 2,
   "metadata": {},
   "outputs": [],
   "source": [
    "import numpy as np\n",
    "import pyomo.environ as pe\n",
    "\n",
    "def convert_1d_array_to_dict(arr):\n",
    "    '''Converts a 1-d ndarray, DataFrame, or Series to a paramater dictionary.'''\n",
    "    if isinstance(arr, pd.DataFrame) or isinstance(arr, pd.Series):\n",
    "        arr = arr.values\n",
    "    arr = arr.squeeze()\n",
    "    if np.shape(arr) == ():\n",
    "        arr = np.array([arr])\n",
    "    return {(i+1): arr[i] for i in range(len(arr))}\n",
    "\n",
    "\n",
    "def convert_2d_array_to_dict(arr):\n",
    "    '''Converts a 2-d ndarray, DataFrame or Series to a parameter dictionary.'''\n",
    "    if isinstance(arr, pd.DataFrame) or isinstance(arr, pd.Series):\n",
    "        arr = arr.values\n",
    "    return {(i+1,j+1): arr[i,j] for i in range(arr.shape[0]) for j in range(arr.shape[1])}\n",
    "\n",
    "# No more concrete model!\n",
    "model = pe.AbstractModel()\n",
    "\n",
    "# Decision variables are defined by an index object rather than a list.\n",
    "model.pizza = pe.RangeSet(1, resources.shape[1])    # decisions are four pizza types\n",
    "model.resource = pe.RangeSet(1, resources.shape[0]) # there are 5 resources\n",
    "\n",
    "# Decision variables definition\n",
    "model.x = pe.Var(model.pizza, domain=pe.NonNegativeReals)\n",
    "\n",
    "# To enable the model to be \"abstract\", we use a Param object to store the data.\n",
    "# NOTICE WE SET mutable=True, meaning we can change these values if we want to.\n",
    "profit_dict = convert_1d_array_to_dict(profit)\n",
    "model.profit_coef = pe.Param(model.pizza, mutable=True, initialize=profit_dict)\n",
    "\n",
    "resource_dict = convert_2d_array_to_dict(resources)\n",
    "model.resource_coef = pe.Param(model.resource, model.pizza, initialize=resource_dict)\n",
    "\n",
    "rhs_dict = convert_1d_array_to_dict(rhs)\n",
    "model.resource_rhs = pe.Param(model.resource, initialize=rhs_dict)\n",
    "\n",
    "def objective_rule(model):\n",
    "    return sum(model.profit_coef[p] * model.x[p] for p in model.pizza)\n",
    "model.obj = pe.Objective(rule=objective_rule, sense=-1)\n",
    "\n",
    "def resource_rule(model, r):\n",
    "    return sum(model.resource_coef[r, p] * model.x[p] for p in model.pizza) <= model.resource_rhs[r]\n",
    "model.resource_cons = pe.Constraint(model.resource, rule=resource_rule)\n"
   ]
  },
  {
   "cell_type": "markdown",
   "metadata": {},
   "source": [
    "We'll need this helper function to see how the decisions change."
   ]
  },
  {
   "cell_type": "code",
   "execution_count": 7,
   "metadata": {},
   "outputs": [],
   "source": [
    "import pyomo\n",
    "\n",
    "def parse_solution(model, instance, index=None):\n",
    "\n",
    "    # Extract variable names\n",
    "    var = [x for x in instance.component_map().keys() \n",
    "           if isinstance(getattr(instance, x), pyomo.core.base.var.IndexedVar)]\n",
    "    \n",
    "    # Create dataframe, distinguising between first and second stage variables\n",
    "    dfs = []\n",
    "    for v in var:\n",
    "        df = pd.DataFrame([x.value for x in instance.component_map()[v].values()], columns=[v])\n",
    "        dfs.append(df)\n",
    "    dfs = pd.concat(dfs, axis=1)\n",
    "    \n",
    "    if index is not None:\n",
    "        dfs.index = index\n",
    "        \n",
    "    return dfs"
   ]
  },
  {
   "cell_type": "code",
   "execution_count": 11,
   "metadata": {},
   "outputs": [
    {
     "name": "stdout",
     "output_type": "stream",
     "text": [
      "plain profit coefficient = 8.0\n",
      "realized profit = 400.0\n",
      "            x\n",
      "pizza        \n",
      "plain     0.0\n",
      "meat     10.0\n",
      "veggie    0.0\n",
      "supreme  20.0\n",
      "\n",
      "plain profit coefficient = 9.0\n",
      "realized profit = 400.0\n",
      "            x\n",
      "pizza        \n",
      "plain     0.0\n",
      "meat     10.0\n",
      "veggie    0.0\n",
      "supreme  20.0\n",
      "\n",
      "plain profit coefficient = 10.0\n",
      "realized profit = 400.0\n",
      "            x\n",
      "pizza        \n",
      "plain    10.0\n",
      "meat      0.0\n",
      "veggie    0.0\n",
      "supreme  20.0\n",
      "\n",
      "plain profit coefficient = 11.0\n",
      "realized profit = 410.0\n",
      "            x\n",
      "pizza        \n",
      "plain    10.0\n",
      "meat      0.0\n",
      "veggie    0.0\n",
      "supreme  20.0\n",
      "\n",
      "plain profit coefficient = 12.0\n",
      "realized profit = 420.0\n",
      "            x\n",
      "pizza        \n",
      "plain    10.0\n",
      "meat      0.0\n",
      "veggie    0.0\n",
      "supreme  20.0\n",
      "\n"
     ]
    }
   ],
   "source": [
    "# Let's run a simple sensitivity analysis by changing plain pizza profit and re-solving\n",
    "# for each value.\n",
    "instance = model.create_instance()\n",
    "opt = pe.SolverFactory('glpk')\n",
    "for plain_profit in [8., 9., 10., 11., 12.]:\n",
    "    \n",
    "    instance.profit_coef[1] = plain_profit\n",
    "    result = opt.solve(instance, tee=False) \n",
    "    \n",
    "    print('plain profit coefficient = {}'.format(plain_profit))\n",
    "    print('realized profit = {}'.format(instance.obj.expr()))\n",
    "    print(parse_solution(model, instance, index=profit.index))\n",
    "    print()"
   ]
  },
  {
   "cell_type": "code",
   "execution_count": null,
   "metadata": {},
   "outputs": [],
   "source": []
  },
  {
   "cell_type": "code",
   "execution_count": null,
   "metadata": {},
   "outputs": [],
   "source": []
  }
 ],
 "metadata": {
  "kernelspec": {
   "display_name": "Python 3",
   "language": "python",
   "name": "python3"
  },
  "language_info": {
   "codemirror_mode": {
    "name": "ipython",
    "version": 3
   },
   "file_extension": ".py",
   "mimetype": "text/x-python",
   "name": "python",
   "nbconvert_exporter": "python",
   "pygments_lexer": "ipython3",
   "version": "3.6.8"
  }
 },
 "nbformat": 4,
 "nbformat_minor": 2
}
