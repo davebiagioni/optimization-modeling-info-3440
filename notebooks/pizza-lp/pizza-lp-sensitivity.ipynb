{
 "cells": [
  {
   "cell_type": "markdown",
   "metadata": {},
   "source": [
    "In this notebook we'll take a look at doing a sensitivity analysis by \"functionizing\" our models.  "
   ]
  },
  {
   "cell_type": "code",
   "execution_count": 55,
   "metadata": {},
   "outputs": [],
   "source": [
    "import pandas as pd\n",
    "\n",
    "profit = pd.read_excel('pizza-lp.xlsx', sheet_name='profit', index_col=0)\n",
    "resource = pd.read_excel('pizza-lp.xlsx', sheet_name='resource', index_col=0)\n",
    "rhs = pd.read_excel('pizza-lp.xlsx', sheet_name='rhs', index_col=0)"
   ]
  },
  {
   "cell_type": "code",
   "execution_count": 56,
   "metadata": {},
   "outputs": [],
   "source": [
    "import pyomo_helpers as helpers\n",
    "\n",
    "profit_dict = helpers.convert_1d_array_to_dict(profit)\n",
    "resource_dict = helpers.convert_2d_array_to_dict(resource)\n",
    "rhs_dict = helpers.convert_1d_array_to_dict(rhs)"
   ]
  },
  {
   "cell_type": "markdown",
   "metadata": {},
   "source": [
    "# Pizza LP"
   ]
  },
  {
   "cell_type": "code",
   "execution_count": 57,
   "metadata": {},
   "outputs": [],
   "source": [
    "import pyomo.environ as pe\n",
    "\n",
    "model = pe.AbstractModel()\n",
    "\n",
    "# Decision variables are defined by an index object rather than a list.\n",
    "model.pizza_i = pe.RangeSet(1, resources.shape[1])    # decisions are four pizza types\n",
    "model.resource_i = pe.RangeSet(1, resources.shape[0]) # there are 5 resources\n",
    "\n",
    "# Decision variables definition\n",
    "model.x = pe.Var(model.pizza_i, domain=pe.NonNegativeReals)\n",
    "\n",
    "# Model parameters. \n",
    "model.profit_coef = pe.Param(model.pizza_i, initialize=profit_dict)\n",
    "model.resource_coef = pe.Param(model.resource_i, model.pizza_i, initialize=resource_dict)\n",
    "model.resource_rhs = pe.Param(model.resource_i, initialize=rhs_dict)\n",
    "\n",
    "def objective_rule(model):\n",
    "    return sum(model.profit_coef[p] * model.x[p] for p in model.pizza_i)\n",
    "model.obj = pe.Objective(rule=objective_rule, sense=-1)\n",
    "\n",
    "def resource_rule(model, r):\n",
    "    return sum(model.resource_coef[r, p] * model.x[p] for p in model.pizza_i) <= model.resource_rhs[r]\n",
    "model.resource_cons = pe.Constraint(model.resource_i, rule=resource_rule)"
   ]
  },
  {
   "cell_type": "code",
   "execution_count": 58,
   "metadata": {},
   "outputs": [
    {
     "name": "stdout",
     "output_type": "stream",
     "text": [
      "\n",
      "Problem: \n",
      "- Name: unknown\n",
      "  Lower bound: 400.0\n",
      "  Upper bound: 400.0\n",
      "  Number of objectives: 1\n",
      "  Number of constraints: 6\n",
      "  Number of variables: 5\n",
      "  Number of nonzeros: 17\n",
      "  Sense: maximize\n",
      "Solver: \n",
      "- Status: ok\n",
      "  Termination condition: optimal\n",
      "  Statistics: \n",
      "    Branch and bound: \n",
      "      Number of bounded subproblems: 0\n",
      "      Number of created subproblems: 0\n",
      "  Error rc: 0\n",
      "  Time: 0.05453848838806152\n",
      "Solution: \n",
      "- number of solutions: 0\n",
      "  number of solutions displayed: 0\n",
      "\n"
     ]
    }
   ],
   "source": [
    "instance, obj, solution = helpers.solve(model, solver='glpk')"
   ]
  },
  {
   "cell_type": "code",
   "execution_count": 59,
   "metadata": {},
   "outputs": [
    {
     "data": {
      "text/html": [
       "<div>\n",
       "<style scoped>\n",
       "    .dataframe tbody tr th:only-of-type {\n",
       "        vertical-align: middle;\n",
       "    }\n",
       "\n",
       "    .dataframe tbody tr th {\n",
       "        vertical-align: top;\n",
       "    }\n",
       "\n",
       "    .dataframe thead th {\n",
       "        text-align: right;\n",
       "    }\n",
       "</style>\n",
       "<table border=\"1\" class=\"dataframe\">\n",
       "  <thead>\n",
       "    <tr style=\"text-align: right;\">\n",
       "      <th></th>\n",
       "      <th>x</th>\n",
       "    </tr>\n",
       "    <tr>\n",
       "      <th>pizza</th>\n",
       "      <th></th>\n",
       "    </tr>\n",
       "  </thead>\n",
       "  <tbody>\n",
       "    <tr>\n",
       "      <th>plain</th>\n",
       "      <td>0.0</td>\n",
       "    </tr>\n",
       "    <tr>\n",
       "      <th>meat</th>\n",
       "      <td>10.0</td>\n",
       "    </tr>\n",
       "    <tr>\n",
       "      <th>veggie</th>\n",
       "      <td>0.0</td>\n",
       "    </tr>\n",
       "    <tr>\n",
       "      <th>supreme</th>\n",
       "      <td>20.0</td>\n",
       "    </tr>\n",
       "  </tbody>\n",
       "</table>\n",
       "</div>"
      ],
      "text/plain": [
       "            x\n",
       "pizza        \n",
       "plain     0.0\n",
       "meat     10.0\n",
       "veggie    0.0\n",
       "supreme  20.0"
      ]
     },
     "execution_count": 59,
     "metadata": {},
     "output_type": "execute_result"
    }
   ],
   "source": [
    "solution.index = profit.index\n",
    "solution"
   ]
  },
  {
   "cell_type": "code",
   "execution_count": 60,
   "metadata": {},
   "outputs": [
    {
     "data": {
      "image/png": "[encoded data removed]",
      "text/plain": [
       "<Figure size 432x288 with 1 Axes>"
      ]
     },
     "metadata": {
      "needs_background": "light"
     },
     "output_type": "display_data"
    }
   ],
   "source": [
    "_ = solution.plot(kind='bar')"
   ]
  },
  {
   "cell_type": "markdown",
   "metadata": {},
   "source": [
    "## Sensitivity Analysis on Profit Coefficient"
   ]
  },
  {
   "cell_type": "code",
   "execution_count": 61,
   "metadata": {},
   "outputs": [],
   "source": [
    "import pyomo.environ as pe\n",
    "\n",
    "model = pe.AbstractModel()\n",
    "\n",
    "# Decision variables are defined by an index object rather than a list.\n",
    "model.pizza_i = pe.RangeSet(1, resources.shape[1])    # decisions are four pizza types\n",
    "model.resource_i = pe.RangeSet(1, resources.shape[0]) # there are 5 resources\n",
    "\n",
    "# Decision variables definition\n",
    "model.x = pe.Var(model.pizza_i, domain=pe.NonNegativeReals)\n",
    "\n",
    "# Model parameters. \n",
    "model.profit_coef = pe.Param(model.pizza_i, initialize=profit_dict, mutable=True)\n",
    "model.resource_coef = pe.Param(model.resource_i, model.pizza_i, initialize=resource_dict)\n",
    "model.resource_rhs = pe.Param(model.resource_i, initialize=rhs_dict)\n",
    "\n",
    "def objective_rule(model):\n",
    "    return sum(model.profit_coef[p] * model.x[p] for p in model.pizza_i)\n",
    "model.obj = pe.Objective(rule=objective_rule, sense=-1)\n",
    "\n",
    "def resource_rule(model, r):\n",
    "    return sum(model.resource_coef[r, p] * model.x[p] for p in model.pizza_i) <= model.resource_rhs[r]\n",
    "model.resource_cons = pe.Constraint(model.resource_i, rule=resource_rule)"
   ]
  },
  {
   "cell_type": "code",
   "execution_count": 65,
   "metadata": {},
   "outputs": [
    {
     "name": "stdout",
     "output_type": "stream",
     "text": [
      "WARNING: DEPRECATED: Cannot call Model.create_instance() on a constructed\n",
      "    model; returning a clone of the current model instance.\n",
      "\n",
      "Problem: \n",
      "- Name: unknown\n",
      "  Lower bound: 400.0\n",
      "  Upper bound: 400.0\n",
      "  Number of objectives: 1\n",
      "  Number of constraints: 6\n",
      "  Number of variables: 5\n",
      "  Number of nonzeros: 17\n",
      "  Sense: maximize\n",
      "Solver: \n",
      "- Status: ok\n",
      "  Termination condition: optimal\n",
      "  Statistics: \n",
      "    Branch and bound: \n",
      "      Number of bounded subproblems: 0\n",
      "      Number of created subproblems: 0\n",
      "  Error rc: 0\n",
      "  Time: 0.04703354835510254\n",
      "Solution: \n",
      "- number of solutions: 0\n",
      "  number of solutions displayed: 0\n",
      "\n",
      "WARNING: DEPRECATED: Cannot call Model.create_instance() on a constructed\n",
      "    model; returning a clone of the current model instance.\n",
      "\n",
      "Problem: \n",
      "- Name: unknown\n",
      "  Lower bound: 400.0\n",
      "  Upper bound: 400.0\n",
      "  Number of objectives: 1\n",
      "  Number of constraints: 6\n",
      "  Number of variables: 5\n",
      "  Number of nonzeros: 17\n",
      "  Sense: maximize\n",
      "Solver: \n",
      "- Status: ok\n",
      "  Termination condition: optimal\n",
      "  Statistics: \n",
      "    Branch and bound: \n",
      "      Number of bounded subproblems: 0\n",
      "      Number of created subproblems: 0\n",
      "  Error rc: 0\n",
      "  Time: 0.04503059387207031\n",
      "Solution: \n",
      "- number of solutions: 0\n",
      "  number of solutions displayed: 0\n",
      "\n",
      "WARNING: DEPRECATED: Cannot call Model.create_instance() on a constructed\n",
      "    model; returning a clone of the current model instance.\n",
      "\n",
      "Problem: \n",
      "- Name: unknown\n",
      "  Lower bound: 400.0\n",
      "  Upper bound: 400.0\n",
      "  Number of objectives: 1\n",
      "  Number of constraints: 6\n",
      "  Number of variables: 5\n",
      "  Number of nonzeros: 17\n",
      "  Sense: maximize\n",
      "Solver: \n",
      "- Status: ok\n",
      "  Termination condition: optimal\n",
      "  Statistics: \n",
      "    Branch and bound: \n",
      "      Number of bounded subproblems: 0\n",
      "      Number of created subproblems: 0\n",
      "  Error rc: 0\n",
      "  Time: 0.03902173042297363\n",
      "Solution: \n",
      "- number of solutions: 0\n",
      "  number of solutions displayed: 0\n",
      "\n",
      "WARNING: DEPRECATED: Cannot call Model.create_instance() on a constructed\n",
      "    model; returning a clone of the current model instance.\n",
      "\n",
      "Problem: \n",
      "- Name: unknown\n",
      "  Lower bound: 410.0\n",
      "  Upper bound: 410.0\n",
      "  Number of objectives: 1\n",
      "  Number of constraints: 6\n",
      "  Number of variables: 5\n",
      "  Number of nonzeros: 17\n",
      "  Sense: maximize\n",
      "Solver: \n",
      "- Status: ok\n",
      "  Termination condition: optimal\n",
      "  Statistics: \n",
      "    Branch and bound: \n",
      "      Number of bounded subproblems: 0\n",
      "      Number of created subproblems: 0\n",
      "  Error rc: 0\n",
      "  Time: 0.04152798652648926\n",
      "Solution: \n",
      "- number of solutions: 0\n",
      "  number of solutions displayed: 0\n",
      "\n",
      "WARNING: DEPRECATED: Cannot call Model.create_instance() on a constructed\n",
      "    model; returning a clone of the current model instance.\n",
      "\n",
      "Problem: \n",
      "- Name: unknown\n",
      "  Lower bound: 420.0\n",
      "  Upper bound: 420.0\n",
      "  Number of objectives: 1\n",
      "  Number of constraints: 6\n",
      "  Number of variables: 5\n",
      "  Number of nonzeros: 17\n",
      "  Sense: maximize\n",
      "Solver: \n",
      "- Status: ok\n",
      "  Termination condition: optimal\n",
      "  Statistics: \n",
      "    Branch and bound: \n",
      "      Number of bounded subproblems: 0\n",
      "      Number of created subproblems: 0\n",
      "  Error rc: 0\n",
      "  Time: 0.045030832290649414\n",
      "Solution: \n",
      "- number of solutions: 0\n",
      "  number of solutions displayed: 0\n",
      "\n",
      "WARNING: DEPRECATED: Cannot call Model.create_instance() on a constructed\n",
      "    model; returning a clone of the current model instance.\n",
      "\n",
      "Problem: \n",
      "- Name: unknown\n",
      "  Lower bound: 430.0\n",
      "  Upper bound: 430.0\n",
      "  Number of objectives: 1\n",
      "  Number of constraints: 6\n",
      "  Number of variables: 5\n",
      "  Number of nonzeros: 17\n",
      "  Sense: maximize\n",
      "Solver: \n",
      "- Status: ok\n",
      "  Termination condition: optimal\n",
      "  Statistics: \n",
      "    Branch and bound: \n",
      "      Number of bounded subproblems: 0\n",
      "      Number of created subproblems: 0\n",
      "  Error rc: 0\n",
      "  Time: 0.04753375053405762\n",
      "Solution: \n",
      "- number of solutions: 0\n",
      "  number of solutions displayed: 0\n",
      "\n"
     ]
    }
   ],
   "source": [
    "plain_profits = list(range(8, 14))\n",
    "obj_list, solution_list = [], []\n",
    "instance = model.create_instance()\n",
    "for p in plain_profits:\n",
    "    instance.profit_coef[1] = p\n",
    "    instance, obj, solution = helpers.solve(instance)\n",
    "    obj_list.append(obj)\n",
    "    solution_list.append(solution)"
   ]
  },
  {
   "cell_type": "code",
   "execution_count": 67,
   "metadata": {},
   "outputs": [
    {
     "data": {
      "image/png": "[encoded data removed]",
      "text/plain": [
       "<Figure size 432x288 with 1 Axes>"
      ]
     },
     "metadata": {
      "needs_background": "light"
     },
     "output_type": "display_data"
    }
   ],
   "source": [
    "%matplotlib inline\n",
    "\n",
    "obj_df = pd.DataFrame(obj_list, index=plain_profits, columns=['profit'])\n",
    "_ = obj_df.plot()"
   ]
  },
  {
   "cell_type": "code",
   "execution_count": 71,
   "metadata": {},
   "outputs": [
    {
     "data": {
      "text/html": [
       "<div>\n",
       "<style scoped>\n",
       "    .dataframe tbody tr th:only-of-type {\n",
       "        vertical-align: middle;\n",
       "    }\n",
       "\n",
       "    .dataframe tbody tr th {\n",
       "        vertical-align: top;\n",
       "    }\n",
       "\n",
       "    .dataframe thead th {\n",
       "        text-align: right;\n",
       "    }\n",
       "</style>\n",
       "<table border=\"1\" class=\"dataframe\">\n",
       "  <thead>\n",
       "    <tr style=\"text-align: right;\">\n",
       "      <th></th>\n",
       "      <th>8</th>\n",
       "      <th>9</th>\n",
       "      <th>10</th>\n",
       "      <th>11</th>\n",
       "      <th>12</th>\n",
       "      <th>13</th>\n",
       "    </tr>\n",
       "    <tr>\n",
       "      <th>pizza</th>\n",
       "      <th></th>\n",
       "      <th></th>\n",
       "      <th></th>\n",
       "      <th></th>\n",
       "      <th></th>\n",
       "      <th></th>\n",
       "    </tr>\n",
       "  </thead>\n",
       "  <tbody>\n",
       "    <tr>\n",
       "      <th>plain</th>\n",
       "      <td>0.0</td>\n",
       "      <td>0.0</td>\n",
       "      <td>10.0</td>\n",
       "      <td>10.0</td>\n",
       "      <td>10.0</td>\n",
       "      <td>10.0</td>\n",
       "    </tr>\n",
       "    <tr>\n",
       "      <th>meat</th>\n",
       "      <td>10.0</td>\n",
       "      <td>10.0</td>\n",
       "      <td>0.0</td>\n",
       "      <td>0.0</td>\n",
       "      <td>0.0</td>\n",
       "      <td>0.0</td>\n",
       "    </tr>\n",
       "    <tr>\n",
       "      <th>veggie</th>\n",
       "      <td>0.0</td>\n",
       "      <td>0.0</td>\n",
       "      <td>0.0</td>\n",
       "      <td>0.0</td>\n",
       "      <td>0.0</td>\n",
       "      <td>0.0</td>\n",
       "    </tr>\n",
       "    <tr>\n",
       "      <th>supreme</th>\n",
       "      <td>20.0</td>\n",
       "      <td>20.0</td>\n",
       "      <td>20.0</td>\n",
       "      <td>20.0</td>\n",
       "      <td>20.0</td>\n",
       "      <td>20.0</td>\n",
       "    </tr>\n",
       "  </tbody>\n",
       "</table>\n",
       "</div>"
      ],
      "text/plain": [
       "           8     9     10    11    12    13\n",
       "pizza                                      \n",
       "plain     0.0   0.0  10.0  10.0  10.0  10.0\n",
       "meat     10.0  10.0   0.0   0.0   0.0   0.0\n",
       "veggie    0.0   0.0   0.0   0.0   0.0   0.0\n",
       "supreme  20.0  20.0  20.0  20.0  20.0  20.0"
      ]
     },
     "execution_count": 71,
     "metadata": {},
     "output_type": "execute_result"
    }
   ],
   "source": [
    "solution_df = pd.concat(solution_list, axis=1)\n",
    "solution_df.index = profit.index\n",
    "solution_df.columns = plain_profits\n",
    "solution_df"
   ]
  },
  {
   "cell_type": "code",
   "execution_count": 72,
   "metadata": {},
   "outputs": [
    {
     "data": {
      "image/png": "[encoded data removed]",
      "text/plain": [
       "<Figure size 432x288 with 1 Axes>"
      ]
     },
     "metadata": {
      "needs_background": "light"
     },
     "output_type": "display_data"
    }
   ],
   "source": [
    "_ = solution_df.plot(kind='bar')"
   ]
  },
  {
   "cell_type": "code",
   "execution_count": null,
   "metadata": {},
   "outputs": [],
   "source": []
  },
  {
   "cell_type": "code",
   "execution_count": null,
   "metadata": {},
   "outputs": [],
   "source": []
  },
  {
   "cell_type": "code",
   "execution_count": null,
   "metadata": {},
   "outputs": [],
   "source": []
  },
  {
   "cell_type": "code",
   "execution_count": 44,
   "metadata": {},
   "outputs": [
    {
     "name": "stdout",
     "output_type": "stream",
     "text": [
      "WARNING: DEPRECATED: Cannot call Model.create_instance() on a constructed\n",
      "    model; returning a clone of the current model instance.\n",
      "\n",
      "Problem: \n",
      "- Name: unknown\n",
      "  Lower bound: 400.0\n",
      "  Upper bound: 400.0\n",
      "  Number of objectives: 1\n",
      "  Number of constraints: 6\n",
      "  Number of variables: 5\n",
      "  Number of nonzeros: 17\n",
      "  Sense: maximize\n",
      "Solver: \n",
      "- Status: ok\n",
      "  Termination condition: optimal\n",
      "  Statistics: \n",
      "    Branch and bound: \n",
      "      Number of bounded subproblems: 0\n",
      "      Number of created subproblems: 0\n",
      "  Error rc: 0\n",
      "  Time: 0.04669690132141113\n",
      "Solution: \n",
      "- number of solutions: 0\n",
      "  number of solutions displayed: 0\n",
      "\n",
      "WARNING: DEPRECATED: Cannot call Model.create_instance() on a constructed\n",
      "    model; returning a clone of the current model instance.\n",
      "\n",
      "Problem: \n",
      "- Name: unknown\n",
      "  Lower bound: 400.0\n",
      "  Upper bound: 400.0\n",
      "  Number of objectives: 1\n",
      "  Number of constraints: 6\n",
      "  Number of variables: 5\n",
      "  Number of nonzeros: 17\n",
      "  Sense: maximize\n",
      "Solver: \n",
      "- Status: ok\n",
      "  Termination condition: optimal\n",
      "  Statistics: \n",
      "    Branch and bound: \n",
      "      Number of bounded subproblems: 0\n",
      "      Number of created subproblems: 0\n",
      "  Error rc: 0\n",
      "  Time: 0.0378875732421875\n",
      "Solution: \n",
      "- number of solutions: 0\n",
      "  number of solutions displayed: 0\n",
      "\n",
      "WARNING: DEPRECATED: Cannot call Model.create_instance() on a constructed\n",
      "    model; returning a clone of the current model instance.\n",
      "\n",
      "Problem: \n",
      "- Name: unknown\n",
      "  Lower bound: 400.0\n",
      "  Upper bound: 400.0\n",
      "  Number of objectives: 1\n",
      "  Number of constraints: 6\n",
      "  Number of variables: 5\n",
      "  Number of nonzeros: 17\n",
      "  Sense: maximize\n",
      "Solver: \n",
      "- Status: ok\n",
      "  Termination condition: optimal\n",
      "  Statistics: \n",
      "    Branch and bound: \n",
      "      Number of bounded subproblems: 0\n",
      "      Number of created subproblems: 0\n",
      "  Error rc: 0\n",
      "  Time: 0.03602790832519531\n",
      "Solution: \n",
      "- number of solutions: 0\n",
      "  number of solutions displayed: 0\n",
      "\n",
      "WARNING: DEPRECATED: Cannot call Model.create_instance() on a constructed\n",
      "    model; returning a clone of the current model instance.\n",
      "\n",
      "Problem: \n",
      "- Name: unknown\n",
      "  Lower bound: 410.0\n",
      "  Upper bound: 410.0\n",
      "  Number of objectives: 1\n",
      "  Number of constraints: 6\n",
      "  Number of variables: 5\n",
      "  Number of nonzeros: 17\n",
      "  Sense: maximize\n",
      "Solver: \n",
      "- Status: ok\n",
      "  Termination condition: optimal\n",
      "  Statistics: \n",
      "    Branch and bound: \n",
      "      Number of bounded subproblems: 0\n",
      "      Number of created subproblems: 0\n",
      "  Error rc: 0\n",
      "  Time: 0.04802823066711426\n",
      "Solution: \n",
      "- number of solutions: 0\n",
      "  number of solutions displayed: 0\n",
      "\n",
      "WARNING: DEPRECATED: Cannot call Model.create_instance() on a constructed\n",
      "    model; returning a clone of the current model instance.\n",
      "\n",
      "Problem: \n",
      "- Name: unknown\n",
      "  Lower bound: 420.0\n",
      "  Upper bound: 420.0\n",
      "  Number of objectives: 1\n",
      "  Number of constraints: 6\n",
      "  Number of variables: 5\n",
      "  Number of nonzeros: 17\n",
      "  Sense: maximize\n",
      "Solver: \n",
      "- Status: ok\n",
      "  Termination condition: optimal\n",
      "  Statistics: \n",
      "    Branch and bound: \n",
      "      Number of bounded subproblems: 0\n",
      "      Number of created subproblems: 0\n",
      "  Error rc: 0\n",
      "  Time: 0.04960346221923828\n",
      "Solution: \n",
      "- number of solutions: 0\n",
      "  number of solutions displayed: 0\n",
      "\n"
     ]
    }
   ],
   "source": [
    "df_list, obj_list = [], []\n",
    "\n",
    "plain_profits = list(range(8, 13))\n",
    "instance = model.create_instance()\n",
    "\n",
    "for plain_profit in plain_profits:\n",
    "    instance.profit_coef[1] = plain_profit\n",
    "    instance, obj, solution = helpers.solve(instance)\n",
    "    df_list.append(solution)\n",
    "    obj_list.append(obj)"
   ]
  },
  {
   "cell_type": "code",
   "execution_count": 48,
   "metadata": {},
   "outputs": [],
   "source": [
    "sa = pd.concat(df_list, axis=1)\n",
    "sa.columns = plain_profits\n",
    "sa.index = profit.index"
   ]
  },
  {
   "cell_type": "code",
   "execution_count": 49,
   "metadata": {},
   "outputs": [
    {
     "data": {
      "image/png": "[encoded data removed]",
      "text/plain": [
       "<Figure size 432x288 with 1 Axes>"
      ]
     },
     "metadata": {
      "needs_background": "light"
     },
     "output_type": "display_data"
    }
   ],
   "source": [
    "%matplotlib inline\n",
    "_ = sa.plot(kind='bar')"
   ]
  },
  {
   "cell_type": "code",
   "execution_count": 51,
   "metadata": {},
   "outputs": [
    {
     "data": {
      "text/plain": [
       "<matplotlib.axes._subplots.AxesSubplot at 0x2753d3cb550>"
      ]
     },
     "execution_count": 51,
     "metadata": {},
     "output_type": "execute_result"
    },
    {
     "data": {
      "image/png": "[encoded data removed]",
      "text/plain": [
       "<Figure size 432x288 with 1 Axes>"
      ]
     },
     "metadata": {
      "needs_background": "light"
     },
     "output_type": "display_data"
    }
   ],
   "source": [
    "objs = pd.DataFrame(obj_list, index=plain_profits, columns=['profit'])\n",
    "_ = objs.plot()"
   ]
  },
  {
   "cell_type": "code",
   "execution_count": null,
   "metadata": {},
   "outputs": [],
   "source": []
  }
 ],
 "metadata": {
  "kernelspec": {
   "display_name": "Python 3",
   "language": "python",
   "name": "python3"
  },
  "language_info": {
   "codemirror_mode": {
    "name": "ipython",
    "version": 3
   },
   "file_extension": ".py",
   "mimetype": "text/x-python",
   "name": "python",
   "nbconvert_exporter": "python",
   "pygments_lexer": "ipython3",
   "version": "3.7.1"
  }
 },
 "nbformat": 4,
 "nbformat_minor": 2
}
