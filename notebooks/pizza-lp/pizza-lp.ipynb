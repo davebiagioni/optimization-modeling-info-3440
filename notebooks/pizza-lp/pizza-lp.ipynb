{
 "cells": [
  {
   "cell_type": "markdown",
   "metadata": {},
   "source": [
    "In this notebook we'll examine the differences between concrete and abstract models.  The Pyomo documentation also discusses this but does not provide very good code examples to illustrate the differences: https://pyomo.readthedocs.io/en/latest/pyomo_overview/abstract_concrete.html"
   ]
  },
  {
   "cell_type": "markdown",
   "metadata": {},
   "source": [
    "# Pizza LP as a Concrete Model"
   ]
  },
  {
   "cell_type": "markdown",
   "metadata": {},
   "source": [
    "Concrete models in Pyomo are ones where the __data (parameters) are hard-coded into the model__.  This is the kind of model we have been building so far.  First, let's read in the data (parameters) that will be used in the objective function and constraints."
   ]
  },
  {
   "cell_type": "markdown",
   "metadata": {},
   "source": [
    "First, let's manually re-organize the data from the original spreadsheet model ('../hw3/Homework 3 OMs.xlsx') so that it's easy to read into pandas."
   ]
  },
  {
   "cell_type": "code",
   "execution_count": 1,
   "metadata": {},
   "outputs": [],
   "source": [
    "import pandas as pd\n",
    "\n",
    "# Read in the data first\n",
    "profit = pd.read_excel('pizza-lp-munged.xlsx', sheet_name='profit', index_col=0)\n",
    "resources = pd.read_excel('pizza-lp-munged.xlsx', sheet_name='resources', index_col=0)\n",
    "rhs = pd.read_excel('pizza-lp-munged.xlsx', sheet_name='rhs', index_col=0)"
   ]
  },
  {
   "cell_type": "markdown",
   "metadata": {},
   "source": [
    "Here is the concrete model we built for the \"pizza\" problem in HW 3.  Notice that the parameters in the `coef` and `rhs` dataframes are written directly into the constraints, and we have to have one line per constraint.  In a way, this is silly, because the constraints all have the same form (sumproduct <= rhs).  If we had 10's or 100's or more constraints, this gets pretty inefficient!"
   ]
  },
  {
   "cell_type": "code",
   "execution_count": 2,
   "metadata": {},
   "outputs": [],
   "source": [
    "import pyomo.environ as pe\n",
    "\n",
    "model = pe.ConcreteModel()\n",
    "\n",
    "# Decision variables\n",
    "decision_index = list(range(4))\n",
    "model.x = pe.Var(decision_index, domain=pe.NonNegativeReals)\n",
    "\n",
    "# Objective function\n",
    "model.obj = pe.Objective(expr=sum([profit.iloc[i, 0]*model.x[i] for i in decision_index]), \n",
    "                         sense=-1)\n",
    "\n",
    "# Constraints\n",
    "model.cons_dough = pe.Constraint(expr=sum([resources.iloc[0, i]*model.x[i] for i in decision_index]) <= rhs.iloc[0, 0])\n",
    "model.cons_sauce = pe.Constraint(expr=sum([resources.iloc[1, i]*model.x[i] for i in decision_index]) <= rhs.iloc[1, 0])\n",
    "model.cons_cheese = pe.Constraint(expr=sum([resources.iloc[2, i]*model.x[i] for i in decision_index]) <= rhs.iloc[2, 0])\n",
    "model.cons_meat = pe.Constraint(expr=sum([resources.iloc[3, i]*model.x[i] for i in decision_index]) <= rhs.iloc[3, 0])\n",
    "model.cons_veggie = pe.Constraint(expr=sum([resources.iloc[4, i]*model.x[i] for i in decision_index]) <= rhs.iloc[4, 0])"
   ]
  },
  {
   "cell_type": "markdown",
   "metadata": {},
   "source": [
    "# Pizza LP as an Abstract Model"
   ]
  },
  {
   "cell_type": "markdown",
   "metadata": {},
   "source": [
    "Abstract models in Pyomo do not refer to specific data values.  For this reason, you could have many instances of a model that all use different data coming from different sources.  Here is what the abstract version of the pizza model would look like."
   ]
  },
  {
   "cell_type": "markdown",
   "metadata": {},
   "source": [
    "The first thing we have to do is start using abstract indexes.  This lets us \"loop\" over the constraints without having to write out each one explicitly."
   ]
  },
  {
   "cell_type": "code",
   "execution_count": 3,
   "metadata": {},
   "outputs": [],
   "source": [
    "# No more concrete model!\n",
    "model = pe.AbstractModel()\n",
    "\n",
    "# Decision variables are defined by an index object rather than a list.\n",
    "model.pizza = pe.RangeSet(1, resources.shape[1])    # decisions are four pizza types\n",
    "model.resource = pe.RangeSet(1, resources.shape[0]) # there are 5 resources\n",
    "\n",
    "# Decision variables definition\n",
    "model.x = pe.Var(model.pizza, domain=pe.NonNegativeReals)"
   ]
  },
  {
   "cell_type": "markdown",
   "metadata": {},
   "source": [
    "Now everything (constraints, decisions, and objective) are defined in terms of these.  We cannot make reference to dataframes or other non-Pyomo objects.  Instead, we need to use the pyomo `Param` object to store our parameters.  We can use the helper function `df_to_dict` defined below to convert dataframes to dictionaries."
   ]
  },
  {
   "cell_type": "code",
   "execution_count": 4,
   "metadata": {},
   "outputs": [],
   "source": [
    "import numpy as np\n",
    "\n",
    "def convert_1d_array_to_dict(arr):\n",
    "    '''Converts a 1-d ndarray, DataFrame, or Series to a paramater dictionary.'''\n",
    "    if isinstance(arr, pd.DataFrame) or isinstance(arr, pd.Series):\n",
    "        arr = arr.values\n",
    "    arr = arr.squeeze()\n",
    "    if np.shape(arr) == ():\n",
    "        arr = np.array([arr])\n",
    "    return {(i+1): arr[i] for i in range(len(arr))}\n",
    "\n",
    "\n",
    "def convert_2d_array_to_dict(arr):\n",
    "    '''Converts a 2-d ndarray, DataFrame or Series to a parameter dictionary.'''\n",
    "    if isinstance(arr, pd.DataFrame) or isinstance(arr, pd.Series):\n",
    "        arr = arr.values\n",
    "    return {(i+1,j+1): arr[i,j] for i in range(arr.shape[0]) for j in range(arr.shape[1])}\n",
    "\n",
    "\n",
    "# To enable the model to be \"abstract\", we use a Param object to store the data.\n",
    "profit_dict = convert_1d_array_to_dict(profit)\n",
    "model.profit_coef = pe.Param(model.pizza, initialize=profit_dict)\n",
    "\n",
    "resource_dict = convert_2d_array_to_dict(resources)\n",
    "model.resource_coef = pe.Param(model.resource, model.pizza, initialize=resource_dict)\n",
    "\n",
    "rhs_dict = convert_1d_array_to_dict(rhs)\n",
    "model.resource_rhs = pe.Param(model.resource, initialize=rhs_dict)"
   ]
  },
  {
   "cell_type": "markdown",
   "metadata": {},
   "source": [
    "Now everything is defined w.r.t. these `Param` objects, no reference to specific data values!  The trade-off is that now constraints and objectives use the `rule=` argument which is a function that defines the value of that model component."
   ]
  },
  {
   "cell_type": "code",
   "execution_count": 5,
   "metadata": {},
   "outputs": [],
   "source": [
    "def objective_rule(model):\n",
    "    return sum(model.profit_coef[p] * model.x[p] for p in model.pizza)\n",
    "model.obj = pe.Objective(rule=objective_rule, sense=-1)\n",
    "\n",
    "def resource_rule(model, r):\n",
    "    return sum(model.resource_coef[r, p] * model.x[p] for p in model.pizza) <= model.resource_rhs[r]\n",
    "model.resource_cons = pe.Constraint(model.resource, rule=resource_rule)"
   ]
  },
  {
   "cell_type": "code",
   "execution_count": 6,
   "metadata": {},
   "outputs": [
    {
     "name": "stdout",
     "output_type": "stream",
     "text": [
      "GLPSOL: GLPK LP/MIP Solver, v4.65\n",
      "Parameter(s) specified in the command line:\n",
      " --write /var/folders/j6/vzm_9p_j4_x08rrgkr0f7cb84vgyj9/T/tmpmxsc90xl.glpk.raw\n",
      " --wglp /var/folders/j6/vzm_9p_j4_x08rrgkr0f7cb84vgyj9/T/tmp9wjxivd3.glpk.glp\n",
      " --cpxlp /var/folders/j6/vzm_9p_j4_x08rrgkr0f7cb84vgyj9/T/tmp64ud9f7d.pyomo.lp\n",
      "Reading problem data from '/var/folders/j6/vzm_9p_j4_x08rrgkr0f7cb84vgyj9/T/tmp64ud9f7d.pyomo.lp'...\n",
      "6 rows, 5 columns, 17 non-zeros\n",
      "51 lines were read\n",
      "Writing problem data to '/var/folders/j6/vzm_9p_j4_x08rrgkr0f7cb84vgyj9/T/tmp9wjxivd3.glpk.glp'...\n",
      "41 lines were written\n",
      "GLPK Simplex Optimizer, v4.65\n",
      "6 rows, 5 columns, 17 non-zeros\n",
      "Preprocessing...\n",
      "5 rows, 4 columns, 16 non-zeros\n",
      "Scaling...\n",
      " A: min|aij| =  2.000e+00  max|aij| =  5.000e+00  ratio =  2.500e+00\n",
      "Problem data seem to be well scaled\n",
      "Constructing initial basis...\n",
      "Size of triangular part is 5\n",
      "*     0: obj =  -0.000000000e+00 inf =   0.000e+00 (4)\n",
      "*     2: obj =   4.000000000e+02 inf =   0.000e+00 (0)\n",
      "OPTIMAL LP SOLUTION FOUND\n",
      "Time used:   0.0 secs\n",
      "Memory used: 0.0 Mb (40448 bytes)\n",
      "Writing basic solution to '/var/folders/j6/vzm_9p_j4_x08rrgkr0f7cb84vgyj9/T/tmpmxsc90xl.glpk.raw'...\n",
      "20 lines were written\n"
     ]
    }
   ],
   "source": [
    "# This is how you solve!\n",
    "instance = model.create_instance()\n",
    "opt = pe.SolverFactory('glpk')\n",
    "result = opt.solve(instance, tee=True)"
   ]
  },
  {
   "cell_type": "code",
   "execution_count": 7,
   "metadata": {},
   "outputs": [
    {
     "name": "stdout",
     "output_type": "stream",
     "text": [
      "\n",
      "Problem: \n",
      "- Name: unknown\n",
      "  Lower bound: 400.0\n",
      "  Upper bound: 400.0\n",
      "  Number of objectives: 1\n",
      "  Number of constraints: 6\n",
      "  Number of variables: 5\n",
      "  Number of nonzeros: 17\n",
      "  Sense: maximize\n",
      "Solver: \n",
      "- Status: ok\n",
      "  Termination condition: optimal\n",
      "  Statistics: \n",
      "    Branch and bound: \n",
      "      Number of bounded subproblems: 0\n",
      "      Number of created subproblems: 0\n",
      "  Error rc: 0\n",
      "  Time: 0.02816009521484375\n",
      "Solution: \n",
      "- number of solutions: 0\n",
      "  number of solutions displayed: 0\n",
      "\n"
     ]
    }
   ],
   "source": [
    "# Make sure you check for infeasibility or unbounded solutions...\n",
    "print(result)"
   ]
  },
  {
   "cell_type": "code",
   "execution_count": 8,
   "metadata": {},
   "outputs": [
    {
     "data": {
      "text/plain": [
       "400.0"
      ]
     },
     "execution_count": 8,
     "metadata": {},
     "output_type": "execute_result"
    }
   ],
   "source": [
    "# This is how you get the objective... here \"obj\" is what you named the objective object\n",
    "# when you created the model.\n",
    "instance.obj.expr()"
   ]
  },
  {
   "cell_type": "markdown",
   "metadata": {},
   "source": [
    "The helper function below will extract your decision variables as a pandas dataframe."
   ]
  },
  {
   "cell_type": "code",
   "execution_count": 10,
   "metadata": {},
   "outputs": [],
   "source": [
    "import pyomo\n",
    "\n",
    "def parse_solution(model, instance, index=None):\n",
    "\n",
    "    # Extract variable names\n",
    "    var = [x for x in instance.component_map().keys() \n",
    "           if isinstance(getattr(instance, x), pyomo.core.base.var.IndexedVar)]\n",
    "    \n",
    "    # Create dataframe, distinguising between first and second stage variables\n",
    "    dfs = []\n",
    "    for v in var:\n",
    "        df = pd.DataFrame([x.value for x in instance.component_map()[v].values()], columns=[v])\n",
    "        dfs.append(df)\n",
    "    dfs = pd.concat(dfs, axis=1)\n",
    "    \n",
    "    if index is not None:\n",
    "        dfs.index = index\n",
    "        \n",
    "    return dfs\n",
    "\n",
    "\n",
    "df = parse_solution(model, instance, index=resources.columns)"
   ]
  },
  {
   "cell_type": "code",
   "execution_count": 11,
   "metadata": {},
   "outputs": [
    {
     "data": {
      "image/png": "[encoded data removed]",
      "text/plain": [
       "<Figure size 432x288 with 1 Axes>"
      ]
     },
     "metadata": {
      "needs_background": "light"
     },
     "output_type": "display_data"
    }
   ],
   "source": [
    "%matplotlib inline\n",
    "_ = df.plot(kind='bar')"
   ]
  },
  {
   "cell_type": "code",
   "execution_count": null,
   "metadata": {},
   "outputs": [],
   "source": []
  },
  {
   "cell_type": "code",
   "execution_count": null,
   "metadata": {},
   "outputs": [],
   "source": []
  }
 ],
 "metadata": {
  "kernelspec": {
   "display_name": "Python 3",
   "language": "python",
   "name": "python3"
  },
  "language_info": {
   "codemirror_mode": {
    "name": "ipython",
    "version": 3
   },
   "file_extension": ".py",
   "mimetype": "text/x-python",
   "name": "python",
   "nbconvert_exporter": "python",
   "pygments_lexer": "ipython3",
   "version": "3.6.8"
  }
 },
 "nbformat": 4,
 "nbformat_minor": 2
}
