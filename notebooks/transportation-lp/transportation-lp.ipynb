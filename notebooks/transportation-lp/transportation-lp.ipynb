{
 "cells": [
  {
   "cell_type": "markdown",
   "metadata": {},
   "source": [
    "# Transportation:  array-valued data and decisions"
   ]
  },
  {
   "cell_type": "code",
   "execution_count": null,
   "metadata": {},
   "outputs": [],
   "source": [
    "import pandas as pd\n",
    "import numpy as np\n",
    "\n",
    "import pyomo.environ as pe\n",
    "import pyomo_helpers as helpers\n",
    "\n",
    "%matplotlib inline"
   ]
  },
  {
   "cell_type": "markdown",
   "metadata": {},
   "source": [
    "### Read and convert data"
   ]
  },
  {
   "cell_type": "markdown",
   "metadata": {},
   "source": [
    "Let's make our lives easier and manipulate the spreadsheet to make it really easy to read the data in!"
   ]
  },
  {
   "cell_type": "code",
   "execution_count": null,
   "metadata": {},
   "outputs": [],
   "source": [
    "# Read in the data first, extracting on the parameters needed\n",
    "cost = pd.read_excel('transportation-lp.xlsx', sheet_name='cost', index_col=0)\n",
    "demand = pd.read_excel('transportation-lp.xlsx', sheet_name='demand', index_col=0)\n",
    "capacity = pd.read_excel('transportation-lp.xlsx', sheet_name='capacity', index_col=0)"
   ]
  },
  {
   "cell_type": "markdown",
   "metadata": {},
   "source": [
    "### Define model"
   ]
  },
  {
   "cell_type": "markdown",
   "metadata": {},
   "source": [
    "Let's create two indexes called `plant` and `warehouse` and use them to define the decision variable `model.x`."
   ]
  },
  {
   "cell_type": "code",
   "execution_count": null,
   "metadata": {},
   "outputs": [],
   "source": [
    "model = pe.AbstractModel()\n",
    "\n",
    "num_warehouse = demand.shape[0]\n",
    "num_plant = capacity.shape[0]\n",
    "\n",
    "model.warehouse_i = pe.RangeSet(1, num_warehouse)\n",
    "model.plant_i = pe.RangeSet(1, num_plant)\n",
    "\n",
    "model.x = pe.Var(model.plant_i, model.warehouse_i, domain=pe.NonNegativeReals)"
   ]
  },
  {
   "cell_type": "markdown",
   "metadata": {},
   "source": [
    "Next we'll use the `helpers` functions to create dictionaries that Pyomo can use for the parameters."
   ]
  },
  {
   "cell_type": "code",
   "execution_count": null,
   "metadata": {},
   "outputs": [],
   "source": [
    "# Create the dictionaries\n",
    "cost_dict = helpers.convert_2d_array_to_dict(cost)\n",
    "demand_dict = helpers.convert_1d_array_to_dict(demand)\n",
    "capacity_dict = helpers.convert_1d_array_to_dict(capacity)\n",
    "\n",
    "# Create the model parameter objects\n",
    "model.cost = pe.Param(model.plant_i, model.warehouse_i, initialize=cost_dict)\n",
    "model.demand = pe.Param(model.warehouse_i, initialize=demand_dict)\n",
    "model.capacity = pe.Param(model.plant_i, initialize=capacity_dict)"
   ]
  },
  {
   "cell_type": "markdown",
   "metadata": {},
   "source": [
    "Our constraints here do not involve sumproducts, but rather row and column sums.  "
   ]
  },
  {
   "cell_type": "code",
   "execution_count": null,
   "metadata": {},
   "outputs": [],
   "source": []
  },
  {
   "cell_type": "markdown",
   "metadata": {},
   "source": [
    "Finally, our objective is a sumproduct over ALL decisions and costs."
   ]
  },
  {
   "cell_type": "code",
   "execution_count": null,
   "metadata": {},
   "outputs": [],
   "source": []
  },
  {
   "cell_type": "markdown",
   "metadata": {},
   "source": [
    "### Solve and analyze"
   ]
  },
  {
   "cell_type": "code",
   "execution_count": null,
   "metadata": {},
   "outputs": [],
   "source": [
    "instance, obj, solution = helpers.solve(model)"
   ]
  },
  {
   "cell_type": "code",
   "execution_count": null,
   "metadata": {},
   "outputs": [],
   "source": [
    "# This is how you get the objective... here \"obj\" is what you named the objective object\n",
    "# when you created the model.\n",
    "instance.obj.expr()"
   ]
  },
  {
   "cell_type": "code",
   "execution_count": null,
   "metadata": {},
   "outputs": [],
   "source": [
    "# The dataframe is stored as a single column (i.e., a flattened array),\n",
    "# but we want to display it as an array like in the spreadsheet.\n",
    "solution.shape"
   ]
  },
  {
   "cell_type": "code",
   "execution_count": null,
   "metadata": {},
   "outputs": [],
   "source": [
    "# Here is an example of how to reshape it into an array and give it appropriate row/col labels.\n",
    "solution = pd.DataFrame(solution.values.reshape(num_plant, num_warehouse),\n",
    "                        index=cost.index, \n",
    "                        columns=cost.columns)\n",
    "solution"
   ]
  },
  {
   "cell_type": "markdown",
   "metadata": {},
   "source": [
    "Let's visualize the solution with a heatmap from the seaborn package."
   ]
  },
  {
   "cell_type": "code",
   "execution_count": null,
   "metadata": {},
   "outputs": [],
   "source": [
    "import seaborn as sns\n",
    "\n",
    "_ = sns.heatmap(solution, annot=True)"
   ]
  },
  {
   "cell_type": "code",
   "execution_count": null,
   "metadata": {},
   "outputs": [],
   "source": []
  }
 ],
 "metadata": {
  "kernelspec": {
   "display_name": "Python 3",
   "language": "python",
   "name": "python3"
  },
  "language_info": {
   "codemirror_mode": {
    "name": "ipython",
    "version": 3
   },
   "file_extension": ".py",
   "mimetype": "text/x-python",
   "name": "python",
   "nbconvert_exporter": "python",
   "pygments_lexer": "ipython3",
   "version": "3.7.2"
  }
 },
 "nbformat": 4,
 "nbformat_minor": 2
}
