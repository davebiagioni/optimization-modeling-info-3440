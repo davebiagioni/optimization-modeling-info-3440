{
 "cells": [
  {
   "cell_type": "markdown",
   "metadata": {},
   "source": [
    "# Transportation:  array-valued data and decisions"
   ]
  },
  {
   "cell_type": "code",
   "execution_count": 1,
   "metadata": {},
   "outputs": [],
   "source": [
    "import pandas as pd\n",
    "import numpy as np\n",
    "\n",
    "import pyomo.environ as pe\n",
    "import pyomo_helpers as helpers\n",
    "\n",
    "%matplotlib inline"
   ]
  },
  {
   "cell_type": "markdown",
   "metadata": {},
   "source": [
    "### Read and convert data"
   ]
  },
  {
   "cell_type": "markdown",
   "metadata": {},
   "source": [
    "Let's make our lives easier and manipulate the spreadsheet to make it really easy to read the data in!"
   ]
  },
  {
   "cell_type": "code",
   "execution_count": 2,
   "metadata": {},
   "outputs": [],
   "source": [
    "# Read in the data first, extracting on the parameters needed\n",
    "cost = pd.read_excel('transportation-lp.xlsx', sheet_name='cost', index_col=0)\n",
    "demand = pd.read_excel('transportation-lp.xlsx', sheet_name='demand', index_col=0)\n",
    "capacity = pd.read_excel('transportation-lp.xlsx', sheet_name='capacity', index_col=0)"
   ]
  },
  {
   "cell_type": "markdown",
   "metadata": {},
   "source": [
    "### Define model"
   ]
  },
  {
   "cell_type": "markdown",
   "metadata": {},
   "source": [
    "Let's create two indexes called `plant` and `warehouse` and use them to define the decision variable `model.x`."
   ]
  },
  {
   "cell_type": "code",
   "execution_count": 3,
   "metadata": {},
   "outputs": [],
   "source": [
    "model = pe.AbstractModel()\n",
    "\n",
    "num_warehouse = demand.shape[0]\n",
    "num_plant = capacity.shape[0]\n",
    "\n",
    "model.warehouse_i = pe.RangeSet(1, num_warehouse)\n",
    "model.plant_i = pe.RangeSet(1, num_plant)\n",
    "\n",
    "model.x = pe.Var(model.plant_i, model.warehouse_i, domain=pe.NonNegativeReals)"
   ]
  },
  {
   "cell_type": "markdown",
   "metadata": {},
   "source": [
    "Next we'll use the `helpers` functions to create dictionaries that Pyomo can use for the parameters."
   ]
  },
  {
   "cell_type": "code",
   "execution_count": 4,
   "metadata": {},
   "outputs": [],
   "source": [
    "# Create the dictionaries\n",
    "cost_dict = helpers.convert_2d_array_to_dict(cost)\n",
    "demand_dict = helpers.convert_1d_array_to_dict(demand)\n",
    "capacity_dict = helpers.convert_1d_array_to_dict(capacity)\n",
    "\n",
    "# Create the model parameter objects\n",
    "model.cost = pe.Param(model.plant_i, model.warehouse_i, initialize=cost_dict)\n",
    "model.demand = pe.Param(model.warehouse_i, initialize=demand_dict)\n",
    "model.capacity = pe.Param(model.plant_i, initialize=capacity_dict)"
   ]
  },
  {
   "cell_type": "markdown",
   "metadata": {},
   "source": [
    "Our constraints here do not involve sumproducts, but rather row and column sums.  "
   ]
  },
  {
   "cell_type": "code",
   "execution_count": 5,
   "metadata": {},
   "outputs": [],
   "source": [
    "def capacity_rule(model, plant):\n",
    "    return sum(model.x[plant, wh] for wh in model.warehouse_i) <= model.capacity[plant]\n",
    "model.capacity_cons = pe.Constraint(model.plant_i, rule=capacity_rule)\n",
    "\n",
    "def demand_rule(model, wh):\n",
    "    return sum(model.x[plant, wh] for plant in model.plant_i) >= model.demand[wh]\n",
    "model.demand_cons = pe.Constraint(model.warehouse_i, rule=demand_rule)"
   ]
  },
  {
   "cell_type": "markdown",
   "metadata": {},
   "source": [
    "Finally, our objective is a sumproduct over ALL decisions and costs."
   ]
  },
  {
   "cell_type": "code",
   "execution_count": 6,
   "metadata": {},
   "outputs": [],
   "source": [
    "def total_cost_rule(model):\n",
    "    return sum(model.x[plant, wh] * model.cost[plant, wh]\n",
    "                  for plant in model.plant_i\n",
    "                      for wh in model.warehouse_i)\n",
    "model.obj = pe.Objective(rule=total_cost_rule)"
   ]
  },
  {
   "cell_type": "markdown",
   "metadata": {},
   "source": [
    "### Solve and analyze"
   ]
  },
  {
   "cell_type": "code",
   "execution_count": 7,
   "metadata": {},
   "outputs": [
    {
     "name": "stdout",
     "output_type": "stream",
     "text": [
      "\n",
      "Problem: \n",
      "- Name: unknown\n",
      "  Lower bound: 13830.0\n",
      "  Upper bound: 13830.0\n",
      "  Number of objectives: 1\n",
      "  Number of constraints: 8\n",
      "  Number of variables: 13\n",
      "  Number of nonzeros: 25\n",
      "  Sense: minimize\n",
      "Solver: \n",
      "- Status: ok\n",
      "  Termination condition: optimal\n",
      "  Statistics: \n",
      "    Branch and bound: \n",
      "      Number of bounded subproblems: 0\n",
      "      Number of created subproblems: 0\n",
      "  Error rc: 0\n",
      "  Time: 0.03121495246887207\n",
      "Solution: \n",
      "- number of solutions: 0\n",
      "  number of solutions displayed: 0\n",
      "\n"
     ]
    }
   ],
   "source": [
    "instance, obj, solution = helpers.solve(model)"
   ]
  },
  {
   "cell_type": "code",
   "execution_count": 9,
   "metadata": {},
   "outputs": [
    {
     "name": "stdout",
     "output_type": "stream",
     "text": [
      "total cost = 13830.0\n"
     ]
    }
   ],
   "source": [
    "# This is how you get the objective... here \"obj\" is what you named the objective object\n",
    "# when you created the model.\n",
    "print('total cost = {}'.format(obj))"
   ]
  },
  {
   "cell_type": "code",
   "execution_count": 10,
   "metadata": {},
   "outputs": [
    {
     "data": {
      "text/plain": [
       "(12, 1)"
      ]
     },
     "execution_count": 10,
     "metadata": {},
     "output_type": "execute_result"
    }
   ],
   "source": [
    "# The dataframe is stored as a single column (i.e., a flattened array),\n",
    "# but we want to display it as an array like in the spreadsheet.\n",
    "solution.shape"
   ]
  },
  {
   "cell_type": "code",
   "execution_count": 11,
   "metadata": {},
   "outputs": [
    {
     "data": {
      "text/plain": [
       "(3, 4)"
      ]
     },
     "execution_count": 11,
     "metadata": {},
     "output_type": "execute_result"
    }
   ],
   "source": [
    "# Here is an example of how to reshape it into an array and give it appropriate row/col labels.\n",
    "solution = pd.DataFrame(solution.values.reshape(num_plant, num_warehouse),\n",
    "                        index=cost.index, \n",
    "                        columns=cost.columns)\n",
    "solution.shape"
   ]
  },
  {
   "cell_type": "code",
   "execution_count": 12,
   "metadata": {},
   "outputs": [
    {
     "data": {
      "text/html": [
       "<div>\n",
       "<style scoped>\n",
       "    .dataframe tbody tr th:only-of-type {\n",
       "        vertical-align: middle;\n",
       "    }\n",
       "\n",
       "    .dataframe tbody tr th {\n",
       "        vertical-align: top;\n",
       "    }\n",
       "\n",
       "    .dataframe thead th {\n",
       "        text-align: right;\n",
       "    }\n",
       "</style>\n",
       "<table border=\"1\" class=\"dataframe\">\n",
       "  <thead>\n",
       "    <tr style=\"text-align: right;\">\n",
       "      <th></th>\n",
       "      <th>ATL</th>\n",
       "      <th>BOS</th>\n",
       "      <th>CHI</th>\n",
       "      <th>DEN</th>\n",
       "    </tr>\n",
       "  </thead>\n",
       "  <tbody>\n",
       "    <tr>\n",
       "      <th>MIN</th>\n",
       "      <td>0.0</td>\n",
       "      <td>0.0</td>\n",
       "      <td>10000.0</td>\n",
       "      <td>0.0</td>\n",
       "    </tr>\n",
       "    <tr>\n",
       "      <th>PIT</th>\n",
       "      <td>5000.0</td>\n",
       "      <td>10000.0</td>\n",
       "      <td>0.0</td>\n",
       "      <td>0.0</td>\n",
       "    </tr>\n",
       "    <tr>\n",
       "      <th>TUC</th>\n",
       "      <td>3000.0</td>\n",
       "      <td>0.0</td>\n",
       "      <td>2000.0</td>\n",
       "      <td>9000.0</td>\n",
       "    </tr>\n",
       "  </tbody>\n",
       "</table>\n",
       "</div>"
      ],
      "text/plain": [
       "        ATL      BOS      CHI     DEN\n",
       "MIN     0.0      0.0  10000.0     0.0\n",
       "PIT  5000.0  10000.0      0.0     0.0\n",
       "TUC  3000.0      0.0   2000.0  9000.0"
      ]
     },
     "execution_count": 12,
     "metadata": {},
     "output_type": "execute_result"
    }
   ],
   "source": [
    "solution"
   ]
  },
  {
   "cell_type": "markdown",
   "metadata": {},
   "source": [
    "Let's visualize the solution with a heatmap from the seaborn package."
   ]
  },
  {
   "cell_type": "code",
   "execution_count": 13,
   "metadata": {},
   "outputs": [
    {
     "data": {
      "image/png": "[encoded data removed]",
      "text/plain": [
       "<Figure size 432x288 with 2 Axes>"
      ]
     },
     "metadata": {
      "needs_background": "light"
     },
     "output_type": "display_data"
    }
   ],
   "source": [
    "import seaborn as sns\n",
    "\n",
    "_ = sns.heatmap(solution, annot=True)"
   ]
  },
  {
   "cell_type": "code",
   "execution_count": null,
   "metadata": {},
   "outputs": [],
   "source": []
  }
 ],
 "metadata": {
  "kernelspec": {
   "display_name": "Python 3",
   "language": "python",
   "name": "python3"
  },
  "language_info": {
   "codemirror_mode": {
    "name": "ipython",
    "version": 3
   },
   "file_extension": ".py",
   "mimetype": "text/x-python",
   "name": "python",
   "nbconvert_exporter": "python",
   "pygments_lexer": "ipython3",
   "version": "3.7.2"
  }
 },
 "nbformat": 4,
 "nbformat_minor": 2
}
