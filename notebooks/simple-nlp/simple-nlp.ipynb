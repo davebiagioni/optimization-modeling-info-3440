{
 "cells": [
  {
   "cell_type": "markdown",
   "metadata": {},
   "source": [
    "# Single-variable nonlinear program"
   ]
  },
  {
   "cell_type": "code",
   "execution_count": 20,
   "metadata": {},
   "outputs": [],
   "source": [
    "import numpy as np\n",
    "import pyomo.environ as pe\n",
    "import pyomo_helpers as helpers"
   ]
  },
  {
   "cell_type": "markdown",
   "metadata": {},
   "source": [
    "We'll look at two types of solvers we can use to for nonlinear programs.  The first one, called IPOPT, you can think of like GRG Nonlinear in Excel.  You can install this solver by running the next cell (uncomment it first!)."
   ]
  },
  {
   "cell_type": "code",
   "execution_count": 1,
   "metadata": {},
   "outputs": [],
   "source": [
    "# Mac:  open Terminal and run \"conda activate <environment>\".  Then run command below.\n",
    "# Windows:  open Anaconda Prompt app and run the command below.\n",
    "# conda install -c conda-forge ipopt"
   ]
  },
  {
   "cell_type": "markdown",
   "metadata": {},
   "source": [
    "Let's suppose we have a smooth, nonlinear function of one variable defined on the interval [-1, 1].  Because the domain is bounded, there are two local minima and two local maximia."
   ]
  },
  {
   "cell_type": "code",
   "execution_count": 22,
   "metadata": {},
   "outputs": [
    {
     "data": {
      "image/png": "[encoded data removed]",
      "text/plain": [
       "<Figure size 432x288 with 1 Axes>"
      ]
     },
     "metadata": {
      "needs_background": "light"
     },
     "output_type": "display_data"
    }
   ],
   "source": [
    "import matplotlib.pyplot as plt\n",
    "%matplotlib inline\n",
    "\n",
    "def nonlinear_function(x):\n",
    "    return -((x - 0.5)**2 - 1)**2\n",
    "\n",
    "x = np.linspace(-1, 1, 1000)\n",
    "y = [nonlinear_function(xi) for xi in x]\n",
    "_ = plt.scatter(x, y, marker='.')"
   ]
  },
  {
   "cell_type": "markdown",
   "metadata": {},
   "source": [
    "We would like to find the point (-1, -1.5625) as the global minimum on this domain, but notice there is another local minimum at `x=0.5`.  Which one will the solver find?"
   ]
  },
  {
   "cell_type": "markdown",
   "metadata": {},
   "source": [
    "Let's create the Pyomo model.  It's a super simple model with no data, so we can just use `ConcreteModel` type."
   ]
  },
  {
   "cell_type": "code",
   "execution_count": 24,
   "metadata": {},
   "outputs": [],
   "source": [
    "model = pe.ConcreteModel()\n",
    "\n",
    "x_index = [1]\n",
    "model.x = pe.Var(x_index, domain=pe.Reals, bounds=(-1, 1))\n",
    "\n",
    "def nonlinear_function_rule(model):\n",
    "    return -((model.x[1] - 0.5)**2 - 1)**2\n",
    "model.obj = pe.Objective(rule=nonlinear_function_rule)"
   ]
  },
  {
   "cell_type": "markdown",
   "metadata": {},
   "source": [
    "Solve using `ipopt` with a single initial guess for `x` (the default)."
   ]
  },
  {
   "cell_type": "code",
   "execution_count": 39,
   "metadata": {},
   "outputs": [
    {
     "name": "stdout",
     "output_type": "stream",
     "text": [
      "WARNING: DEPRECATED: Cannot call Model.create_instance() on a constructed\n",
      "    model; returning a clone of the current model instance.\n",
      "\n",
      "Problem: \n",
      "- Lower bound: -inf\n",
      "  Upper bound: inf\n",
      "  Number of objectives: 1\n",
      "  Number of constraints: 0\n",
      "  Number of variables: 1\n",
      "  Sense: unknown\n",
      "Solver: \n",
      "- Status: ok\n",
      "  Message: Ipopt 3.11.1\\x3a Optimal Solution Found\n",
      "  Termination condition: optimal\n",
      "  Id: 0\n",
      "  Error rc: 0\n",
      "  Time: 0.05348968505859375\n",
      "Solution: \n",
      "- number of solutions: 0\n",
      "  number of solutions displayed: 0\n",
      "\n",
      "optimal x=0.4999999991633004, y=-1.0\n"
     ]
    }
   ],
   "source": [
    "instance, obj1, solution1 = helpers.solve(model, solver='ipopt')\n",
    "x1 = solution1['x'][0]\n",
    "print('optimal x={}, y={}'.format(x1, obj1))"
   ]
  },
  {
   "cell_type": "markdown",
   "metadata": {},
   "source": [
    "We can also set the solver to `multistart` to run `ipopt` with multiple initial guesses for `x` (just like in Solver)."
   ]
  },
  {
   "cell_type": "code",
   "execution_count": 40,
   "metadata": {},
   "outputs": [
    {
     "name": "stdout",
     "output_type": "stream",
     "text": [
      "WARNING: DEPRECATED: Cannot call Model.create_instance() on a constructed\n",
      "    model; returning a clone of the current model instance.\n",
      "\n",
      "Problem: \n",
      "- Lower bound: -inf\n",
      "  Upper bound: inf\n",
      "  Number of objectives: 1\n",
      "  Number of constraints: 0\n",
      "  Number of variables: 1\n",
      "  Sense: unknown\n",
      "Solver: \n",
      "- Status: ok\n",
      "  Message: Ipopt 3.11.1\\x3a Optimal Solution Found\n",
      "  Termination condition: optimal\n",
      "  Id: 0\n",
      "  Error rc: 0\n",
      "  Time: 0.04687309265136719\n",
      "Solution: \n",
      "- number of solutions: 0\n",
      "  number of solutions displayed: 0\n",
      "\n",
      "optimal x=-1.0, y=-1.5625\n"
     ]
    }
   ],
   "source": [
    "# Run ipopt with multiple starts\n",
    "instance, obj2, solution2 = helpers.solve(model, solver='multistart')\n",
    "x2 = solution2['x'][0]\n",
    "print('optimal x={}, y={}'.format(x2, obj2))"
   ]
  },
  {
   "cell_type": "markdown",
   "metadata": {},
   "source": [
    "Plot the results.  You can comment out the first two lines if you don't have `seaborn` installed."
   ]
  },
  {
   "cell_type": "code",
   "execution_count": 51,
   "metadata": {},
   "outputs": [
    {
     "data": {
      "image/png": "[encoded data removed]",
      "text/plain": [
       "<Figure size 432x288 with 1 Axes>"
      ]
     },
     "metadata": {},
     "output_type": "display_data"
    }
   ],
   "source": [
    "import seaborn as sns\n",
    "sns.set_style('darkgrid')\n",
    "\n",
    "fig, ax = plt.subplots()\n",
    "ax = plt.plot(x, y, label='f(x)')\n",
    "ax = plt.scatter(x=x1, y=obj1, c='r', label='ipopt')\n",
    "ax = plt.scatter(x=x2, y=obj2, c='g', label='multistart')\n",
    "ax = plt.legend()"
   ]
  },
  {
   "cell_type": "code",
   "execution_count": null,
   "metadata": {},
   "outputs": [],
   "source": []
  }
 ],
 "metadata": {
  "kernelspec": {
   "display_name": "Python 3",
   "language": "python",
   "name": "python3"
  },
  "language_info": {
   "codemirror_mode": {
    "name": "ipython",
    "version": 3
   },
   "file_extension": ".py",
   "mimetype": "text/x-python",
   "name": "python",
   "nbconvert_exporter": "python",
   "pygments_lexer": "ipython3",
   "version": "3.7.2"
  }
 },
 "nbformat": 4,
 "nbformat_minor": 2
}
