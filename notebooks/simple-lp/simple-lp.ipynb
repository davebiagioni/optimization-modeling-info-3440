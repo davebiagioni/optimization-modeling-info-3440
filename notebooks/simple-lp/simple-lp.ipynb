{
 "cells": [
  {
   "cell_type": "markdown",
   "metadata": {},
   "source": [
    "# Simple Linear Program"
   ]
  },
  {
   "cell_type": "markdown",
   "metadata": {},
   "source": [
    "Let's solve the following linear program:"
   ]
  },
  {
   "cell_type": "markdown",
   "metadata": {},
   "source": [
    "\\begin{array}{ll}\n",
    "  \\min       & 2 x_1 + 3 x_2\\\\\n",
    "  \\mathrm{s.t.} & 3 x_1 + 4 x_2 \\geq 1\\\\\n",
    "             & x_1, x_2 \\geq 0\n",
    "\\end{array}"
   ]
  },
  {
   "cell_type": "markdown",
   "metadata": {},
   "source": [
    "Before we start, what are the model \"parameters\"? Let's solve in Excel so we can verify our Pyomo model."
   ]
  },
  {
   "cell_type": "markdown",
   "metadata": {},
   "source": [
    "### Pyomo model, one chunk at a time"
   ]
  },
  {
   "cell_type": "markdown",
   "metadata": {},
   "source": [
    "#### Note:  If you try to re-run certain cells you might get an error.  If so, start evaluating cells from the beginning (here)."
   ]
  },
  {
   "cell_type": "markdown",
   "metadata": {},
   "source": [
    "Import the `pyomo.environ` model as `pe`. "
   ]
  },
  {
   "cell_type": "code",
   "execution_count": 19,
   "metadata": {},
   "outputs": [],
   "source": [
    "import pyomo.environ as pe"
   ]
  },
  {
   "cell_type": "markdown",
   "metadata": {},
   "source": [
    "Create a new (and empty) pyomo model.  The \"concrete\" means we will hard-code parameter values."
   ]
  },
  {
   "cell_type": "code",
   "execution_count": 20,
   "metadata": {},
   "outputs": [
    {
     "name": "stdout",
     "output_type": "stream",
     "text": [
      "<class 'pyomo.core.base.PyomoModel.ConcreteModel'>\n"
     ]
    }
   ],
   "source": [
    "model = pe.ConcreteModel()\n",
    "print(type(model))"
   ]
  },
  {
   "cell_type": "markdown",
   "metadata": {},
   "source": [
    "First let's define the decision variables.  We'll give the decisions specific indexes and specify that they be nonnegative."
   ]
  },
  {
   "cell_type": "code",
   "execution_count": 21,
   "metadata": {},
   "outputs": [],
   "source": [
    "# We have to tell pyomo how many dv's we have using indexes.  This is a step you will have to\n",
    "# do yourself most times!  Indexes can be numbers or strings.\n",
    "x_indexes = [1, 2]"
   ]
  },
  {
   "cell_type": "code",
   "execution_count": 22,
   "metadata": {},
   "outputs": [
    {
     "name": "stdout",
     "output_type": "stream",
     "text": [
      "<class 'pyomo.core.base.var.IndexedVar'>\n"
     ]
    }
   ],
   "source": [
    "# Create a variable using the indexes and specifying the type of variable, here nonnegative real numbers, x >= 0.\n",
    "# The model.x says to attach the variable to the model and call it \"x\".\n",
    "model.x = pe.Var(x_indexes, domain=pe.NonNegativeReals)\n",
    "print(type(model.x))"
   ]
  },
  {
   "cell_type": "code",
   "execution_count": 23,
   "metadata": {},
   "outputs": [
    {
     "name": "stdout",
     "output_type": "stream",
     "text": [
      "<class 'pyomo.core.base.objective.SimpleObjective'>\n"
     ]
    }
   ],
   "source": [
    "# Define the objective function value as z = 2x1 + 3x2 and attach it to the model as an attribute obj.\n",
    "# By default, the objective is set to be a \"min\" problem.\n",
    "model.obj = pe.Objective(expr = 2*model.x[1] + 3*model.x[2])\n",
    "print(type(model.obj))"
   ]
  },
  {
   "cell_type": "code",
   "execution_count": 24,
   "metadata": {},
   "outputs": [
    {
     "name": "stdout",
     "output_type": "stream",
     "text": [
      "<class 'pyomo.core.base.constraint.SimpleConstraint'>\n"
     ]
    }
   ],
   "source": [
    "# Create a constraint \"3x1 + 4x2 >= 1\" and store attach it to the model as Constraint1.\n",
    "model.constraint = pe.Constraint(expr = 3*model.x[1] + 4*model.x[2] >= 1)\n",
    "print(type(model.constraint))"
   ]
  },
  {
   "cell_type": "code",
   "execution_count": 25,
   "metadata": {},
   "outputs": [
    {
     "name": "stdout",
     "output_type": "stream",
     "text": [
      "GLPSOL: GLPK LP/MIP Solver, v4.65\n",
      "Parameter(s) specified in the command line:\n",
      " --write /var/folders/j6/vzm_9p_j4_x08rrgkr0f7cb84vgyj9/T/tmpvqrtydru.glpk.raw\n",
      " --wglp /var/folders/j6/vzm_9p_j4_x08rrgkr0f7cb84vgyj9/T/tmpf3gt599r.glpk.glp\n",
      " --cpxlp /var/folders/j6/vzm_9p_j4_x08rrgkr0f7cb84vgyj9/T/tmplno37ara.pyomo.lp\n",
      "Reading problem data from '/var/folders/j6/vzm_9p_j4_x08rrgkr0f7cb84vgyj9/T/tmplno37ara.pyomo.lp'...\n",
      "2 rows, 3 columns, 3 non-zeros\n",
      "21 lines were read\n",
      "Writing problem data to '/var/folders/j6/vzm_9p_j4_x08rrgkr0f7cb84vgyj9/T/tmpf3gt599r.glpk.glp'...\n",
      "15 lines were written\n",
      "GLPK Simplex Optimizer, v4.65\n",
      "2 rows, 3 columns, 3 non-zeros\n",
      "Preprocessing...\n",
      "1 row, 2 columns, 2 non-zeros\n",
      "Scaling...\n",
      " A: min|aij| =  3.000e+00  max|aij| =  4.000e+00  ratio =  1.333e+00\n",
      "Problem data seem to be well scaled\n",
      "Constructing initial basis...\n",
      "Size of triangular part is 1\n",
      "      0: obj =   0.000000000e+00 inf =   1.000e+00 (1)\n",
      "      1: obj =   7.500000000e-01 inf =   0.000e+00 (0)\n",
      "*     2: obj =   6.666666667e-01 inf =   0.000e+00 (0)\n",
      "OPTIMAL LP SOLUTION FOUND\n",
      "Time used:   0.0 secs\n",
      "Memory used: 0.0 Mb (40400 bytes)\n",
      "Writing basic solution to '/var/folders/j6/vzm_9p_j4_x08rrgkr0f7cb84vgyj9/T/tmpvqrtydru.glpk.raw'...\n",
      "14 lines were written\n"
     ]
    }
   ],
   "source": [
    "# Instantiate the model instance and run the solver.  This will basically always be the same\n",
    "# for all models that you run!  You can set tee=False to suppress the output.\n",
    "\n",
    "opt = pe.SolverFactory('glpk')\n",
    "success = opt.solve(model, tee=True)"
   ]
  },
  {
   "cell_type": "code",
   "execution_count": 26,
   "metadata": {},
   "outputs": [
    {
     "name": "stdout",
     "output_type": "stream",
     "text": [
      "Model unknown\n",
      "\n",
      "  Variables:\n",
      "    x : Size=2, Index=x_index\n",
      "        Key : Lower : Value             : Upper : Fixed : Stale : Domain\n",
      "          1 :     0 : 0.333333333333333 :  None : False : False : NonNegativeReals\n",
      "          2 :     0 :               0.0 :  None : False : False : NonNegativeReals\n",
      "\n",
      "  Objectives:\n",
      "    obj : Size=1, Index=None, Active=True\n",
      "        Key  : Active : Value\n",
      "        None :   True : 0.666666666666666\n",
      "\n",
      "  Constraints:\n",
      "    constraint : Size=1\n",
      "        Key  : Lower : Body               : Upper\n",
      "        None :   1.0 : 0.9999999999999989 :  None\n"
     ]
    }
   ],
   "source": [
    "model.display()"
   ]
  },
  {
   "cell_type": "code",
   "execution_count": 27,
   "metadata": {},
   "outputs": [
    {
     "name": "stdout",
     "output_type": "stream",
     "text": [
      "Optimal objective value = 0.666666666666666\n"
     ]
    }
   ],
   "source": [
    "# Get the objective function value from the optimal solution and print it.\n",
    "obj_val = model.obj.expr()\n",
    "print('Optimal objective value = {}'.format(obj_val))"
   ]
  },
  {
   "cell_type": "code",
   "execution_count": 28,
   "metadata": {},
   "outputs": [
    {
     "name": "stdout",
     "output_type": "stream",
     "text": [
      "optimal x = [0.333333333333333, 0.0]\n"
     ]
    }
   ],
   "source": [
    "# Get a list of optimal decision variable values.\n",
    "x = []  # create an empty list to store values\n",
    "for index in model.x_index.value_list:\n",
    "    x.append(model.x[index].value)\n",
    "print('optimal x = {}'.format(x))"
   ]
  },
  {
   "cell_type": "code",
   "execution_count": 30,
   "metadata": {},
   "outputs": [
    {
     "name": "stdout",
     "output_type": "stream",
     "text": [
      "constraint : Size=1, Index=None, Active=True\n",
      "    Key  : Lower : Body            : Upper : Active\n",
      "    None :   1.0 : 3*x[1] + 4*x[2] :  +Inf :   True\n",
      "constraint : Size=1\n",
      "    Key  : Lower : Body               : Upper\n",
      "    None :   1.0 : 0.9999999999999989 :  None\n"
     ]
    }
   ],
   "source": [
    "# Let's print the constraint\n",
    "model.constraint.pprint()       # prints the mathematical constraint\n",
    "model.constraint.display()      # prints the value of the Lower and Body (think, RHS and LHS)"
   ]
  },
  {
   "cell_type": "code",
   "execution_count": 32,
   "metadata": {},
   "outputs": [
    {
     "name": "stdout",
     "output_type": "stream",
     "text": [
      "constraint slack = -1.1102230246251565e-15\n"
     ]
    }
   ],
   "source": [
    "# Get the slack in the constraint\n",
    "print('constraint slack = {}'.format(model.constraint.slack()))"
   ]
  },
  {
   "cell_type": "code",
   "execution_count": null,
   "metadata": {},
   "outputs": [],
   "source": []
  }
 ],
 "metadata": {
  "kernelspec": {
   "display_name": "Python 3",
   "language": "python",
   "name": "python3"
  },
  "language_info": {
   "codemirror_mode": {
    "name": "ipython",
    "version": 3
   },
   "file_extension": ".py",
   "mimetype": "text/x-python",
   "name": "python",
   "nbconvert_exporter": "python",
   "pygments_lexer": "ipython3",
   "version": "3.6.8"
  }
 },
 "nbformat": 4,
 "nbformat_minor": 2
}
